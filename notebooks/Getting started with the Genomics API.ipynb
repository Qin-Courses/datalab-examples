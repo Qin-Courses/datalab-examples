{
 "metadata": {
  "name": "",
  "signature": "sha256:2bb5e18bf902b2a4f8dc87f7bafdd58904f173bf7f7cf445f4fe3df040071b7b"
 },
 "nbformat": 3,
 "nbformat_minor": 0,
 "worksheets": [
  {
   "cells": [
    {
     "cell_type": "heading",
     "level": 1,
     "metadata": {},
     "source": [
      "Getting started with the Google Genomics API"
     ]
    },
    {
     "cell_type": "markdown",
     "metadata": {},
     "source": [
      "In this notebook we'll cover how to make authenticated requests to the [Google Genomics API](https://cloud.google.com/genomics/v1beta2/reference/)."
     ]
    },
    {
     "cell_type": "heading",
     "level": 2,
     "metadata": {},
     "source": [
      "Setup"
     ]
    },
    {
     "cell_type": "heading",
     "level": 3,
     "metadata": {},
     "source": [
      "Install Python libraries"
     ]
    },
    {
     "cell_type": "markdown",
     "metadata": {},
     "source": [
      "We'll be using the [Google Python API client](https://github.com/google/google-api-python-client) for interacting with Genomics API. We can install this library, or any other 3rd-party Python libraries from the [Python Package Index (PyPI)](https://pypi.python.org/pypi) using the `pip` package manager.\n",
      "\n",
      "There are [50+ Google APIs](http://api-python-client-doc.appspot.com/) that you can work against with the Google Python API Client, but we'll focus on the Genomics API in this notebook."
     ]
    },
    {
     "cell_type": "code",
     "collapsed": false,
     "input": [
      "!pip install --upgrade google-api-python-client"
     ],
     "language": "python",
     "metadata": {},
     "outputs": []
    },
    {
     "cell_type": "heading",
     "level": 3,
     "metadata": {},
     "source": [
      "Create an Authenticated Client"
     ]
    },
    {
     "cell_type": "markdown",
     "metadata": {},
     "source": [
      "Next we construct a Python object that we can use it to make requests. \n",
      "\n",
      "The following snippet shows how we can authenticate using the service account on the DataLab host.  For more detail about authentication from Python, see [Using OAuth 2.0 for Server to Server Applications](https://developers.google.com/api-client-library/python/auth/service-accounts)."
     ]
    },
    {
     "cell_type": "code",
     "collapsed": false,
     "input": [
      "from httplib2 import Http\n",
      "from oauth2client.gce import AppAssertionCredentials\n",
      "credentials = AppAssertionCredentials(\n",
      "    'https://www.googleapis.com/auth/cloud-platform')\n",
      "http = Http()\n",
      "credentials.authorize(http)\n"
     ],
     "language": "python",
     "metadata": {},
     "outputs": []
    },
    {
     "cell_type": "markdown",
     "metadata": {},
     "source": [
      "And then we create a client for the Genomics API."
     ]
    },
    {
     "cell_type": "code",
     "collapsed": false,
     "input": [
      "from apiclient.discovery import build\n",
      "genomics = build('genomics', 'v1beta2', http=http)"
     ],
     "language": "python",
     "metadata": {},
     "outputs": []
    },
    {
     "cell_type": "heading",
     "level": 3,
     "metadata": {},
     "source": [
      "Send a request to the Genomics API"
     ]
    },
    {
     "cell_type": "markdown",
     "metadata": {},
     "source": [
      "Now that we have a Python client for the Genomics API, we can access a variety of different resources. For details about each available resource, see the python client [API docs here](https://google-api-client-libraries.appspot.com/documentation/genomics/v1beta2/python/latest/index.html).\n",
      "\n",
      "Using our `genomics` client, we'll demonstrate fetching a Dataset resource by ID (the [1000 Genomes dataset](http://googlegenomics.readthedocs.org/en/latest/use_cases/discover_public_data/1000_genomes.html) in this case).\n",
      "\n",
      "First, we need to construct a request object."
     ]
    },
    {
     "cell_type": "code",
     "collapsed": false,
     "input": [
      "request = genomics.datasets().get(datasetId='10473108253681171589')"
     ],
     "language": "python",
     "metadata": {},
     "outputs": []
    },
    {
     "cell_type": "markdown",
     "metadata": {},
     "source": [
      "Next, we'll send this request to the Genomics API by calling the `request.execute()` method."
     ]
    },
    {
     "cell_type": "code",
     "collapsed": false,
     "input": [
      "response = request.execute()"
     ],
     "language": "python",
     "metadata": {},
     "outputs": []
    },
    {
     "cell_type": "markdown",
     "metadata": {},
     "source": [
      "You will need enable the Genomics API for your project if you have not done so previously.  Click on [this link](https://console.developers.google.com/flows/enableapi?apiid=genomics) to enable the API in your project."
     ]
    },
    {
     "cell_type": "markdown",
     "metadata": {},
     "source": [
      "The response object returned is simply a Python dictionary. Let's take a look at the properties returned in the response."
     ]
    },
    {
     "cell_type": "code",
     "collapsed": false,
     "input": [
      "for entry in response.items():\n",
      "    print \"%s => %s\" % entry"
     ],
     "language": "python",
     "metadata": {},
     "outputs": []
    },
    {
     "cell_type": "markdown",
     "metadata": {},
     "source": [
      "Success! We can see the name of the specified Dataset and a few other pieces of metadata.\n",
      "\n",
      "Accessing other Genomics API resources will follow this same set of steps. The full [list of available resources within the API is here](https://google-api-client-libraries.appspot.com/documentation/genomics/v1beta2/python/latest/index.html). Each resource has details about the different verbs that can be applied (e.g., [Dataset methods](https://google-api-client-libraries.appspot.com/documentation/genomics/v1beta2/python/latest/genomics_v1beta2.datasets.html))."
     ]
    },
    {
     "cell_type": "heading",
     "level": 2,
     "metadata": {},
     "source": [
      "Access Data"
     ]
    },
    {
     "cell_type": "markdown",
     "metadata": {},
     "source": [
      "In this portion of the notebook, we implement [this same example](https://github.com/googlegenomics/getting-started-with-the-api/tree/master/python) implemented as a python script.  First let's define a few constants to use within the examples that follow."
     ]
    },
    {
     "cell_type": "code",
     "collapsed": false,
     "input": [
      "dataset_id = '10473108253681171589' # This is the 1000 Genomes dataset ID\n",
      "sample = 'NA12872'\n",
      "reference_name = '22'\n",
      "reference_position = 51003835"
     ],
     "language": "python",
     "metadata": {},
     "outputs": []
    },
    {
     "cell_type": "heading",
     "level": 3,
     "metadata": {},
     "source": [
      "Get read bases for a sample at specific a position"
     ]
    },
    {
     "cell_type": "markdown",
     "metadata": {},
     "source": [
      "First find the read group set ID for the sample."
     ]
    },
    {
     "cell_type": "code",
     "collapsed": false,
     "input": [
      "request = genomics.readgroupsets().search(\n",
      "  body={'datasetIds': [dataset_id], 'name': sample},\n",
      "  fields='readGroupSets(id)')\n",
      "read_group_sets = request.execute().get('readGroupSets', [])\n",
      "if len(read_group_sets) != 1:\n",
      "  raise Exception('Searching for %s didn\\'t return '\n",
      "                  'the right number of read group sets' % sample)\n",
      "\n",
      "read_group_set_id = read_group_sets[0]['id']"
     ],
     "language": "python",
     "metadata": {},
     "outputs": []
    },
    {
     "cell_type": "markdown",
     "metadata": {},
     "source": [
      "Once we have the read group set ID, lookup the reads at the position in which we are interested."
     ]
    },
    {
     "cell_type": "code",
     "collapsed": false,
     "input": [
      "request = genomics.reads().search(\n",
      "  body={'readGroupSetIds': [read_group_set_id],\n",
      "        'referenceName': reference_name,\n",
      "        'start': reference_position,\n",
      "        'end': reference_position + 1,\n",
      "        'pageSize': 1024},\n",
      "  fields='alignments(alignment,alignedSequence)')\n",
      "reads = request.execute().get('alignments', [])"
     ],
     "language": "python",
     "metadata": {},
     "outputs": []
    },
    {
     "cell_type": "markdown",
     "metadata": {},
     "source": [
      "And we print out the results."
     ]
    },
    {
     "cell_type": "code",
     "collapsed": false,
     "input": [
      "# Note: This is simplistic - the cigar should be considered for real code\n",
      "bases = [read['alignedSequence'][\n",
      "           reference_position - int(read['alignment']['position']['position'])]\n",
      "         for read in reads]\n",
      "\n",
      "print '%s bases on %s at %d are' % (sample, reference_name, reference_position)\n",
      "\n",
      "from collections import Counter\n",
      "for base, count in Counter(bases).items():\n",
      "  print '%s: %s' % (base, count)"
     ],
     "language": "python",
     "metadata": {},
     "outputs": []
    },
    {
     "cell_type": "heading",
     "level": 3,
     "metadata": {},
     "source": [
      "Get variants for a sample at specific a position"
     ]
    },
    {
     "cell_type": "markdown",
     "metadata": {},
     "source": [
      "First find the call set ID for the sample."
     ]
    },
    {
     "cell_type": "code",
     "collapsed": false,
     "input": [
      "request = genomics.callsets().search(\n",
      "  body={'variantSetIds': [dataset_id], 'name': sample},\n",
      "  fields='callSets(id)')\n",
      "resp = request.execute()\n",
      "call_sets = resp.get('callSets', [])\n",
      "if len(call_sets) != 1:\n",
      "  raise Exception('Searching for %s didn\\'t return '\n",
      "                  'the right number of call sets' % sample)\n",
      "\n",
      "call_set_id = call_sets[0]['id']"
     ],
     "language": "python",
     "metadata": {},
     "outputs": []
    },
    {
     "cell_type": "markdown",
     "metadata": {},
     "source": [
      "Once we have the call set ID, lookup the variants that overlap the position in which we are interested."
     ]
    },
    {
     "cell_type": "code",
     "collapsed": false,
     "input": [
      "request = genomics.variants().search(\n",
      "  body={'callSetIds': [call_set_id],\n",
      "        'referenceName': reference_name,\n",
      "        'start': reference_position,\n",
      "        'end': reference_position + 1},\n",
      "  fields='variants(names,referenceBases,alternateBases,calls(genotype))')\n",
      "variant = request.execute().get('variants', [])[0]"
     ],
     "language": "python",
     "metadata": {},
     "outputs": []
    },
    {
     "cell_type": "markdown",
     "metadata": {},
     "source": [
      "And we print out the results."
     ]
    },
    {
     "cell_type": "code",
     "collapsed": false,
     "input": [
      "variant_name = variant['names'][0]\n",
      "genotype = [variant['referenceBases'] if g == 0\n",
      "            else variant['alternateBases'][g - 1]\n",
      "            for g in variant['calls'][0]['genotype']]\n",
      "\n",
      "print 'the called genotype is %s for %s' % (','.join(genotype), variant_name)"
     ],
     "language": "python",
     "metadata": {},
     "outputs": []
    }
   ],
   "metadata": {}
  }
 ]
}