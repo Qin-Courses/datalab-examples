{
 "metadata": {
  "name": "",
  "signature": "sha256:14b09a64ca385523bdc5c4f21258e2adbdf2e2eac392bd571d1b6ae2dcdd813d"
 },
 "nbformat": 3,
 "nbformat_minor": 0,
 "worksheets": [
  {
   "cells": [
    {
     "cell_type": "heading",
     "level": 1,
     "metadata": {},
     "source": [
      "Getting started with the Genomics APIs"
     ]
    },
    {
     "cell_type": "markdown",
     "metadata": {},
     "source": [
      "In this notebook we'll cover how to make authenticated requests to the [Google Genomics APIs](https://cloud.google.com/genomics/v1beta2/reference/), which will include:\n",
      "* Enabling the Genomics API for your project\n",
      "* Obtaining an API key for making authenticated requests\n",
      "* Creating a Python API client for issuing requests\n",
      "\n",
      "We'll also cover how to make direct HTTP requests to the Genomics API."
     ]
    },
    {
     "cell_type": "heading",
     "level": 2,
     "metadata": {},
     "source": [
      "Setup"
     ]
    },
    {
     "cell_type": "markdown",
     "metadata": {},
     "source": [
      "Before we can get started, we need to ensure that our VM is fully configured to work against the Genomics APIs.\n",
      "\n",
      "*TODO(bryantd): Move as much of this setup as possible into the Docker container build.*"
     ]
    },
    {
     "cell_type": "heading",
     "level": 3,
     "metadata": {},
     "source": [
      "Install Python libraries"
     ]
    },
    {
     "cell_type": "markdown",
     "metadata": {},
     "source": [
      "We'll be using the [Google Python API client](https://github.com/google/google-api-python-client) for interacting with Genomics APIs. We can install this library, or any other 3rd-party Python libraries from the [Python Package Index (PyPI)](https://pypi.python.org/pypi) using the `pip` package manager.\n",
      "\n",
      "There are [50+ Google APIs](http://api-python-client-doc.appspot.com/) that you can work against with the Google Python API Client, but we'll focus on the Genomics API in this notebook."
     ]
    },
    {
     "cell_type": "code",
     "collapsed": false,
     "input": [
      "!pip install --upgrade google-api-python-client"
     ],
     "language": "python",
     "metadata": {},
     "outputs": [
      {
       "output_type": "stream",
       "stream": "stdout",
       "text": [
        "Requirement already up-to-date: google-api-python-client in /usr/local/lib/python2.7/dist-packages\r\n"
       ]
      },
      {
       "output_type": "stream",
       "stream": "stdout",
       "text": [
        "Requirement already up-to-date: httplib2>=0.8 in /usr/lib/python2.7/dist-packages (from google-api-python-client)\r\n"
       ]
      },
      {
       "output_type": "stream",
       "stream": "stdout",
       "text": [
        "Requirement already up-to-date: oauth2client>=1.4.6 in /usr/local/lib/python2.7/dist-packages (from google-api-python-client)\r\n"
       ]
      },
      {
       "output_type": "stream",
       "stream": "stdout",
       "text": [
        "Requirement already up-to-date: six>=1.6.1 in /usr/local/lib/python2.7/dist-packages (from google-api-python-client)\r\n",
        "Requirement already up-to-date: uritemplate>=0.6 in /usr/local/lib/python2.7/dist-packages (from google-api-python-client)\r\n"
       ]
      },
      {
       "output_type": "stream",
       "stream": "stdout",
       "text": [
        "Requirement already up-to-date: pyasn1==0.1.7 in /usr/local/lib/python2.7/dist-packages (from oauth2client>=1.4.6->google-api-python-client)\r\n"
       ]
      },
      {
       "output_type": "stream",
       "stream": "stdout",
       "text": [
        "Requirement already up-to-date: pyasn1-modules==0.0.5 in /usr/local/lib/python2.7/dist-packages (from oauth2client>=1.4.6->google-api-python-client)\r\n"
       ]
      },
      {
       "output_type": "stream",
       "stream": "stdout",
       "text": [
        "Requirement already up-to-date: rsa==3.1.4 in /usr/local/lib/python2.7/dist-packages (from oauth2client>=1.4.6->google-api-python-client)\r\n"
       ]
      },
      {
       "output_type": "stream",
       "stream": "stdout",
       "text": [
        "Requirement already up-to-date: simplejson>=2.5.0 in /usr/local/lib/python2.7/dist-packages (from uritemplate>=0.6->google-api-python-client)\r\n",
        "Cleaning up...\r\n"
       ]
      }
     ],
     "prompt_number": 1
    },
    {
     "cell_type": "heading",
     "level": 3,
     "metadata": {},
     "source": [
      "Get an API key"
     ]
    },
    {
     "cell_type": "markdown",
     "metadata": {},
     "source": [
      "In order for us to work against public or private Genomics datasets, we'll need to [get an API key](https://developers.google.com/api-client-library/python/start/get_started#auth), which will authorize our requests."
     ]
    },
    {
     "cell_type": "code",
     "collapsed": false,
     "input": [
      "# FIXME: remove this API key line\n",
      "# Note: this API key is already restricted to this single VM's IP address,\n",
      "# so not particularly dangerous to leak.\n",
      "import os\n",
      "os.environ['DNA_API_KEY'] = ''\n",
      "\n",
      "# TODO(bryantd): Come up with a better scheme for users to add their own\n",
      "# API key that avoids saving it in the notebook directly. It would be nice\n",
      "# to have the VM request an API key on startup actually and auto-set this\n",
      "# environment variable so that users never actually see it.\n",
      "\n",
      "API_KEY = os.environ.get('DNA_API_KEY', None)\n",
      "\n",
      "# Make sure that an API key was defined\n",
      "# todo: put instructions here for getting an api key\n",
      "if API_KEY is None:\n",
      "    print 'Missing API key environment variable'"
     ],
     "language": "python",
     "metadata": {},
     "outputs": [],
     "prompt_number": 2
    },
    {
     "cell_type": "heading",
     "level": 3,
     "metadata": {},
     "source": [
      "Enable the Genomics API"
     ]
    },
    {
     "cell_type": "markdown",
     "metadata": {},
     "source": [
      "You will need enable the Genomics API for your project if you have not done so previously. The API section of the [Cloud Developer Console](developers.google.com/console) will allow you to find and then enable the Genomics API.\n",
      "\n",
      "Once you've enabled the API, the next step is to construct a Python object that we can use to make requests. The following snippet shows how we can create a client for the Genomics API."
     ]
    },
    {
     "cell_type": "code",
     "collapsed": false,
     "input": [
      "from apiclient.discovery import build\n",
      "genomics = build('genomics', 'v1beta2', developerKey=API_KEY)"
     ],
     "language": "python",
     "metadata": {},
     "outputs": [],
     "prompt_number": 3
    },
    {
     "cell_type": "markdown",
     "metadata": {},
     "source": [
      "Now that we have a Python client for the Genomics API, we can access a variety of different resources. For details about each available resource, see the [API docs here](https://google-api-client-libraries.appspot.com/documentation/genomics/v1beta2/python/latest/index.html).\n",
      "\n",
      "Using our `genomics` client, we'll demonstrate fetching a Dataset resource by ID (the 1000 genomes dataset in this case).\n",
      "\n",
      "First, we need to construct a request object."
     ]
    },
    {
     "cell_type": "code",
     "collapsed": false,
     "input": [
      "request = genomics.datasets().get(datasetId='10473108253681171589')"
     ],
     "language": "python",
     "metadata": {},
     "outputs": [],
     "prompt_number": 22
    },
    {
     "cell_type": "markdown",
     "metadata": {},
     "source": [
      "Next, we'll send this request to the Genomics API by calling the `request.execute()` method."
     ]
    },
    {
     "cell_type": "code",
     "collapsed": false,
     "input": [
      "response = request.execute()"
     ],
     "language": "python",
     "metadata": {},
     "outputs": [],
     "prompt_number": 21
    },
    {
     "cell_type": "markdown",
     "metadata": {},
     "source": [
      "The response object returned is simply a Python dictionary. Let's take a look at the properties returned in the response."
     ]
    },
    {
     "cell_type": "code",
     "collapsed": false,
     "input": [
      "for entry in response.items():\n",
      "    print \"%s => %s\" % entry"
     ],
     "language": "python",
     "metadata": {},
     "outputs": [
      {
       "output_type": "stream",
       "stream": "stdout",
       "text": [
        "isPublic => True\n",
        "id => 10473108253681171589\n",
        "name => 1000 Genomes\n",
        "projectNumber => 761052378059\n"
       ]
      }
     ],
     "prompt_number": 20
    },
    {
     "cell_type": "markdown",
     "metadata": {},
     "source": [
      "Success! We can see the name of the specified Dataset and a few other pieces of metadata.\n",
      "\n",
      "Accessing other Genomics API resources will follow this same set of steps. The full [list of available resources within the API is here](https://google-api-client-libraries.appspot.com/documentation/genomics/v1beta2/python/latest/index.html). Each resource has details about the different verbs that can be applied (e.g., [Dataset methods](https://google-api-client-libraries.appspot.com/documentation/genomics/v1beta2/python/latest/genomics_v1beta2.datasets.html))."
     ]
    },
    {
     "cell_type": "heading",
     "level": 2,
     "metadata": {},
     "source": [
      "Making direct HTTP requests to the API"
     ]
    },
    {
     "cell_type": "markdown",
     "metadata": {},
     "source": [
      "It's also possible to directly access the Genomics API by making appropriately formed HTTP requests. We'll use the `requests` library to make this easy.\n",
      "\n",
      "Note that an API key is still used in this case, and is passed as a query string parameter when making the HTTP request."
     ]
    },
    {
     "cell_type": "code",
     "collapsed": false,
     "input": [
      "import requests\n",
      "response = requests.get('https://www.googleapis.com/genomics/v1beta2/datasets/10473108253681171589',\n",
      "                 params=dict(key=API_KEY))"
     ],
     "language": "python",
     "metadata": {},
     "outputs": [],
     "prompt_number": 23
    },
    {
     "cell_type": "markdown",
     "metadata": {},
     "source": [
      "The response object contains our requested data in the form of a JSON-encoded string stored within the body of the response. We can transform this response to a Python dictionary like so:"
     ]
    },
    {
     "cell_type": "code",
     "collapsed": false,
     "input": [
      "import json\n",
      "data = json.loads(response.content)\n",
      "data"
     ],
     "language": "python",
     "metadata": {},
     "outputs": [
      {
       "metadata": {},
       "output_type": "pyout",
       "prompt_number": 24,
       "text": [
        "{u'id': u'10473108253681171589',\n",
        " u'isPublic': True,\n",
        " u'name': u'1000 Genomes',\n",
        " u'projectNumber': u'761052378059'}"
       ]
      }
     ],
     "prompt_number": 24
    },
    {
     "cell_type": "markdown",
     "metadata": {},
     "source": [
      "And access fields within the response data as expected:"
     ]
    },
    {
     "cell_type": "code",
     "collapsed": false,
     "input": [
      "print data['name']"
     ],
     "language": "python",
     "metadata": {},
     "outputs": [
      {
       "output_type": "stream",
       "stream": "stdout",
       "text": [
        "1000 Genomes\n"
       ]
      }
     ],
     "prompt_number": 25
    },
    {
     "cell_type": "code",
     "collapsed": false,
     "input": [],
     "language": "python",
     "metadata": {},
     "outputs": []
    }
   ],
   "metadata": {}
  }
 ]
}