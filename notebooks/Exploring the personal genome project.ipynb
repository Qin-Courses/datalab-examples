{
 "metadata": {
  "name": "",
  "signature": "sha256:4374e8a78dc90c3208688e4058b9857bccdc284ffdde3c761fba46db77678e06"
 },
 "nbformat": 3,
 "nbformat_minor": 0,
 "worksheets": [
  {
   "cells": [
    {
     "cell_type": "markdown",
     "metadata": {},
     "source": [
      "# Exploring the Personal Genome Project\n",
      "\n",
      "This notebook demonstrates working with sample genomics data stored as publicly accessible BigQuery datasets.\n",
      "\n",
      "### In this notebook you will\n",
      "\n",
      "* Explore the Personal Genome Project genomics datasets available in BigQuery\n",
      "* Use the `%%sql` statement to write and execute SQL statements within the notebook\n",
      "* Extract data from BigQuery and create a local dataset that can be manipulated in Python\n",
      "* Refine and pivot your local dataset via the Pandas Python library\n",
      "* Visualize different aspects of your dataset via the Matplotlib Python library\n",
      "\n",
      "Related Links:\n",
      "* [BigQuery](https://cloud.google.com/bigquery/)\n",
      "* BigQuery [SQL reference](https://cloud.google.com/bigquery/query-reference)\n",
      "* [PGP Data Description](http://googlegenomics.readthedocs.org/en/latest/use_cases/discover_public_data/pgp_public_data.html)\n",
      "* This notebook is based on the [Google Genomics](https://cloud.google.com/genomics/) BigQuery example [Personal Genome Project](https://github.com/googlegenomics/bigquery-examples/tree/master/pgp)\n",
      "\n",
      "----"
     ]
    },
    {
     "cell_type": "code",
     "collapsed": false,
     "input": [
      "import gcp.bigquery as bq"
     ],
     "language": "python",
     "metadata": {},
     "outputs": []
    },
    {
     "cell_type": "heading",
     "level": 1,
     "metadata": {},
     "source": [
      "Exploring the Personal Genome Project dataset"
     ]
    },
    {
     "cell_type": "markdown",
     "metadata": {},
     "source": [
      "First let's look at the table of phenotypes that we want to explore here. We can use the `gcp.bigquery` Python package to fetch the table schema. We can see a number of fields that provide details for a given participant's genome, such as the existence of certain diseases/conditions (e.g., has_Asthma) as well as the participant's heritage (e.g., Maternal_grandfather_Country_of_origin). "
     ]
    },
    {
     "cell_type": "code",
     "collapsed": false,
     "input": [
      "phenotypes = bq.table('google.com:biggene:pgp.phenotypes')\n",
      "phenotypes.schema"
     ],
     "language": "python",
     "metadata": {},
     "outputs": []
    },
    {
     "cell_type": "markdown",
     "metadata": {},
     "source": [
      "Let's look at a few rows from the table for a few phenotype attributes of interest."
     ]
    },
    {
     "cell_type": "code",
     "collapsed": false,
     "input": [
      "phenotypes.sample(fields=['Participant',\n",
      "                          'Sex_Gender',\n",
      "                          'Year_of_birth',\n",
      "                          'Maternal_grandmother_Country_of_origin',\n",
      "                          'Maternal_grandfather_Country_of_origin'])"
     ],
     "language": "python",
     "metadata": {},
     "outputs": []
    },
    {
     "cell_type": "heading",
     "level": 2,
     "metadata": {},
     "source": [
      "Querying"
     ]
    },
    {
     "cell_type": "markdown",
     "metadata": {},
     "source": [
      "Let's dig further into the phenotypes table and get some statistics on the occurrence of asthma among the participants present within the dataset. The `%%bq_sql` statement allows us to write SQL within our notebook and execute it within BigQuery."
     ]
    },
    {
     "cell_type": "code",
     "collapsed": false,
     "input": [
      "%%sql --name asthma\n",
      "SELECT Participant,\n",
      "       IFNULL(Sex_Gender, 'Unknown') AS gender,\n",
      "       IF(has_Asthma IS NULL, 0, 1) AS has_asthma\n",
      "FROM $phenotypes"
     ],
     "language": "python",
     "metadata": {},
     "outputs": []
    },
    {
     "cell_type": "markdown",
     "metadata": {},
     "source": [
      "Our query is now stored in a variable called `asthma`. We can execute the query (by sending to BigQuery) by calling `asthma.results()`.  Additionally, let's convert the results to a [Pandas dataframe](http://pandas.pydata.org/pandas-docs/dev/generated/pandas.DataFrame.html) and display just the first 5 rows from the results."
     ]
    },
    {
     "cell_type": "code",
     "collapsed": false,
     "input": [
      "bq.query(asthma, {'phenotypes': phenotypes}).to_dataframe()[:5]"
     ],
     "language": "python",
     "metadata": {},
     "outputs": []
    },
    {
     "cell_type": "heading",
     "level": 3,
     "metadata": {},
     "source": [
      "Composing Queries"
     ]
    },
    {
     "cell_type": "markdown",
     "metadata": {},
     "source": [
      "Now that we've seen the structure of the rows generated by our `$asthma` query, let's summarize the results by computing the percentage of the overall dataset having asthma. We can accomplish this by nesting our previous query within an outer `SELECT` statement. The `%%sql` statement allows us to embed our previous `$asthma` query like so:"
     ]
    },
    {
     "cell_type": "code",
     "collapsed": false,
     "input": [
      "%%sql\n",
      "SELECT ROUND(AVG(has_asthma) * 100, 2) AS percent_has_asthma FROM $asthma"
     ],
     "language": "python",
     "metadata": {},
     "outputs": []
    },
    {
     "cell_type": "markdown",
     "metadata": {},
     "source": [
      "Notice the reference to the previous query we defined via the `$asthma` placeholder. The resulting query is a nested SQL statement.  This is handy because we can build up our large, complex query one piece at a time and validate that the intermediate results we're getting along the way.\n",
      "\n",
      "Let's further refine our `$asthma` query and compute the average occurrence broken down by gender this time."
     ]
    },
    {
     "cell_type": "code",
     "collapsed": false,
     "input": [
      "%%sql\n",
      "SELECT gender,\n",
      "       ROUND(AVG(has_asthma) * 100, 2) AS percent_has_asthma\n",
      "FROM $asthma\n",
      "GROUP BY gender"
     ],
     "language": "python",
     "metadata": {},
     "outputs": []
    },
    {
     "cell_type": "markdown",
     "metadata": {},
     "source": [
      "Looks like there are roughly twice as many female (versus male) genomes with the asthma phenotype in this dataset."
     ]
    },
    {
     "cell_type": "heading",
     "level": 3,
     "metadata": {},
     "source": [
      "Python Pandas Integration"
     ]
    },
    {
     "cell_type": "markdown",
     "metadata": {},
     "source": [
      "Since our `$asthma` query returns a result set that is small enough to easily fit into memory (at ~2k rows), let's create a local dataset from our query by populating a [Pandas dataframe](http://pandas.pydata.org/pandas-docs/dev/generated/pandas.DataFrame.html) object and saving it to the `df` variable."
     ]
    },
    {
     "cell_type": "code",
     "collapsed": false,
     "input": [
      "df = bq.query(asthma, {'phenotypes': phenotypes}).to_dataframe()"
     ],
     "language": "python",
     "metadata": {},
     "outputs": []
    },
    {
     "cell_type": "markdown",
     "metadata": {},
     "source": [
      "This dataframe allows us to slice and dice our data in a number of ways and all of the computation will happen locally. Let's try getting the number of genomes per gender via our dataframe."
     ]
    },
    {
     "cell_type": "code",
     "collapsed": false,
     "input": [
      "df.groupby('gender').sum()"
     ],
     "language": "python",
     "metadata": {},
     "outputs": []
    },
    {
     "cell_type": "markdown",
     "metadata": {},
     "source": [
      "So that shows us the total number of participants annotated to have asthma, broken down by gender. Let's see if we can reproduce the percent_has_asthma column that we computed above via BigQuery."
     ]
    },
    {
     "cell_type": "code",
     "collapsed": false,
     "input": [
      "df.groupby('gender').mean() * 100"
     ],
     "language": "python",
     "metadata": {},
     "outputs": []
    },
    {
     "cell_type": "markdown",
     "metadata": {},
     "source": [
      "Great! So for datasets that easily fit into memory, we can easily aggregate our results via the Pandas dataframe using an approach very similar to our SQL statement."
     ]
    },
    {
     "cell_type": "heading",
     "level": 2,
     "metadata": {},
     "source": [
      "Visualization"
     ]
    },
    {
     "cell_type": "markdown",
     "metadata": {},
     "source": [
      "Every Pandas dataframe can be used for visualization by calling the [`dataframe.plot()`](http://pandas.pydata.org/pandas-docs/dev/visualization.html) method.  Let's plot the counts of asthma occurrence broken down by gender."
     ]
    },
    {
     "cell_type": "code",
     "collapsed": false,
     "input": [
      "tally = df.groupby('gender').sum()\n",
      "tally.plot(kind='pie', y='has_asthma', legend=False)"
     ],
     "language": "python",
     "metadata": {},
     "outputs": []
    },
    {
     "cell_type": "code",
     "collapsed": false,
     "input": [
      "tally.plot(kind='bar', y='has_asthma', legend=False)"
     ],
     "language": "python",
     "metadata": {},
     "outputs": []
    }
   ],
   "metadata": {}
  }
 ]
}