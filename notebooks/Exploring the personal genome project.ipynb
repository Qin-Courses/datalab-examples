{
 "metadata": {
  "name": "",
  "signature": "sha256:a3695fc2b4b0da661daea6c91c2ec1c5c075fa4175ced0e2f2f371d1c26e04a9"
 },
 "nbformat": 3,
 "nbformat_minor": 0,
 "worksheets": [
  {
   "cells": [
    {
     "cell_type": "markdown",
     "metadata": {},
     "source": [
      "# Exploring the Personal Genome Project\n",
      "\n",
      "This notebook demonstrates working with sample genomics data stored as publicly accessible BigQuery datasets.\n",
      "\n",
      "### In this notebook you will\n",
      "\n",
      "* Explore the Personal Genome Project dataset available in BigQuery.\n",
      "* Use the `%%sql` statement to write and execute SQL statements within the notebook.\n",
      "* Extract data from BigQuery and create a local dataset that can be manipulated in Python.\n",
      "* Refine and pivot your local dataset via the Pandas Python library.\n",
      "* Visualize different aspects of your dataset via the Matplotlib Python library.\n",
      "\n",
      "Related Links:\n",
      "* [BigQuery](https://cloud.google.com/bigquery/)\n",
      "* BigQuery [SQL reference](https://cloud.google.com/bigquery/query-reference)\n",
      "* [PGP Data Description](http://googlegenomics.readthedocs.org/en/latest/use_cases/discover_public_data/pgp_public_data.html)\n",
      "* This notebook is based on the [Google Genomics](https://cloud.google.com/genomics/) BigQuery example [Personal Genome Project](https://github.com/googlegenomics/bigquery-examples/tree/master/pgp)\n",
      "\n",
      "----"
     ]
    },
    {
     "cell_type": "code",
     "collapsed": false,
     "input": [
      "import gcp.bigquery as bq"
     ],
     "language": "python",
     "metadata": {},
     "outputs": [],
     "prompt_number": 30
    },
    {
     "cell_type": "heading",
     "level": 1,
     "metadata": {},
     "source": [
      "Exploring the Personal Genome Project dataset"
     ]
    },
    {
     "cell_type": "markdown",
     "metadata": {},
     "source": [
      "First let's look at the table of phenotypes that we want to explore here. We can use the `gcp.bigquery` Python package to fetch the table schema. We can see a number of fields that provide details for a given participant's genome, such as the existence of certain diseases/conditions (e.g., has_Asthma) as well as the participant's heritage (e.g., Maternal_grandfather_Country_of_origin). "
     ]
    },
    {
     "cell_type": "code",
     "collapsed": false,
     "input": [
      "phenotypes = bq.table('google.com:biggene:pgp.phenotypes')\n",
      "phenotypes.schema"
     ],
     "language": "python",
     "metadata": {},
     "outputs": [
      {
       "html": [
        "\n",
        "    <div class=\"bqsv\" id=\"bqsv_144175824329\"></div>\n",
        "    <script>\n",
        "      require(['extensions/bigquery', 'element!bqsv_144175824329', 'style!/static/extensions/bigquery.css'],\n",
        "          function(bq, dom) {\n",
        "              bq.renderSchema(dom, [{\"type\": \"STRING\", \"name\": \"Participant\"}, {\"type\": \"STRING\", \"name\": \"Year_of_birth\"}, {\"type\": \"STRING\", \"name\": \"Which_statement_best_describes_you\"}, {\"type\": \"STRING\", \"name\": \"Severe_disease_or_rare_genetic_trait\"}, {\"type\": \"STRING\", \"name\": \"Disease_trait_Onset\"}, {\"type\": \"STRING\", \"name\": \"Disease_trait_Rarity\"}, {\"type\": \"STRING\", \"name\": \"Disease_trait_Severity\"}, {\"type\": \"STRING\", \"name\": \"Disease_trait_Relative_enrollment\"}, {\"type\": \"STRING\", \"name\": \"Disease_trait_Diagnosis\"}, {\"type\": \"STRING\", \"name\": \"Disease_trait_Genetic_confirmation\"}, {\"type\": \"STRING\", \"name\": \"Disease_trait_Documentation\"}, {\"type\": \"STRING\", \"name\": \"Sex_Gender\"}, {\"type\": \"STRING\", \"name\": \"Race_ethnicity\"}, {\"type\": \"STRING\", \"name\": \"Maternal_grandmother_Country_of_origin\"}, {\"type\": \"STRING\", \"name\": \"Paternal_grandmother_Country_of_origin\"}, {\"type\": \"STRING\", \"name\": \"Paternal_grandfather_Country_of_origin\"}, {\"type\": \"STRING\", \"name\": \"Maternal_grandfather_Country_of_origin\"}, {\"type\": \"STRING\", \"name\": \"Enrollment_of_relatives\"}, {\"type\": \"STRING\", \"name\": \"Enrollment_of_older_individuals\"}, {\"type\": \"STRING\", \"name\": \"Enrollment_of_parents\"}, {\"type\": \"STRING\", \"name\": \"Enrolled_relatives_Monozygotic_Identical_twins\"}, {\"type\": \"STRING\", \"name\": \"Enrolled_relatives_Parents\"}, {\"type\": \"STRING\", \"name\": \"Enrolled_relatives_Siblings_Fraternal_twins\"}, {\"type\": \"STRING\", \"name\": \"Enrolled_relatives_Children\"}, {\"type\": \"STRING\", \"name\": \"Enrolled_relatives_Grandparents\"}, {\"type\": \"BOOLEAN\", \"name\": \"Enrolled_relatives_Grandchildren\"}, {\"type\": \"STRING\", \"name\": \"Enrolled_relatives_Aunts_Uncles\"}, {\"type\": \"STRING\", \"name\": \"Enrolled_relatives_Nephews_Nieces\"}, {\"type\": \"BOOLEAN\", \"name\": \"Enrolled_relatives_Half_siblings\"}, {\"type\": \"STRING\", \"name\": \"Enrolled_relatives_Cousins_or_more_distant\"}, {\"type\": \"STRING\", \"name\": \"Enrolled_relatives_Not_genetically_related_e_g_husband_wife\"}, {\"type\": \"STRING\", \"name\": \"Are_all_your_enrolled_relatives_linked_to_your_PGP_profile\"}, {\"type\": \"STRING\", \"name\": \"Have_you_uploaded_genetic_data_to_your_PGP_participant_profile\"}, {\"type\": \"STRING\", \"name\": \"Have_you_used_the_PGP_web_interface_to_record_a_designated_proxy\"}, {\"type\": \"STRING\", \"name\": \"Have_you_uploaded_health_record_data_using_our_Google_Health_or_Microsoft_Healthvault_interfaces\"}, {\"type\": \"STRING\", \"name\": \"Uploaded_health_records_Update_status\"}, {\"type\": \"INTEGER\", \"name\": \"Uploaded_health_records_Extensiveness\"}, {\"type\": \"STRING\", \"name\": \"Blood_sample\"}, {\"type\": \"STRING\", \"name\": \"Saliva_sample\"}, {\"type\": \"STRING\", \"name\": \"Microbiome_samples\"}, {\"type\": \"STRING\", \"name\": \"Tissue_samples_from_surgery\"}, {\"type\": \"STRING\", \"name\": \"Tissue_samples_from_autopsy\"}, {\"type\": \"STRING\", \"name\": \"Month_of_birth\"}, {\"type\": \"STRING\", \"name\": \"Anatomical_sex_at_birth\"}, {\"type\": \"STRING\", \"name\": \"Maternal_grandmother_Race_ethnicity\"}, {\"type\": \"STRING\", \"name\": \"Maternal_grandfather_Race_ethnicity\"}, {\"type\": \"STRING\", \"name\": \"Paternal_grandmother_Race_ethnicity\"}, {\"type\": \"STRING\", \"name\": \"Paternal_grandfather_Race_ethnicity\"}, {\"type\": \"BOOLEAN\", \"name\": \"has_NA\"}, {\"type\": \"BOOLEAN\", \"name\": \"has_Sciatica\"}, {\"type\": \"BOOLEAN\", \"name\": \"has_Allergic_contact_dermatitis\"}, {\"type\": \"BOOLEAN\", \"name\": \"has_Urinary_tract_infection_UTI\"}, {\"type\": \"BOOLEAN\", \"name\": \"has_Endometriosis\"}, {\"type\": \"BOOLEAN\", \"name\": \"has_Ovarian_cysts\"}, {\"type\": \"BOOLEAN\", \"name\": \"has_Impacted_tooth\"}, {\"type\": \"BOOLEAN\", \"name\": \"has_Dental_cavities\"}, {\"type\": \"BOOLEAN\", \"name\": \"has_Gallstones\"}, {\"type\": \"BOOLEAN\", \"name\": \"has_Chronic_tonsillitis\"}, {\"type\": \"BOOLEAN\", \"name\": \"has_Allergic_rhinitis\"}, {\"type\": \"BOOLEAN\", \"name\": \"has_Asthma\"}, {\"type\": \"BOOLEAN\", \"name\": \"has_Hyperopia_Farsightedness\"}, {\"type\": \"BOOLEAN\", \"name\": \"has_Iron_deficiency_anemia\"}, {\"type\": \"BOOLEAN\", \"name\": \"has_Migraine_with_aura\"}, {\"type\": \"BOOLEAN\", \"name\": \"has_Lactose_intolerance\"}, {\"type\": \"BOOLEAN\", \"name\": \"has_Cervical_cancer\"}, {\"type\": \"BOOLEAN\", \"name\": \"has_Osteoarthritis\"}, {\"type\": \"BOOLEAN\", \"name\": \"has_Achilles_tendonitis\"}, {\"type\": \"BOOLEAN\", \"name\": \"has_Dandruff\"}, {\"type\": \"BOOLEAN\", \"name\": \"has_Keloids\"}, {\"type\": \"BOOLEAN\", \"name\": \"has_Skin_tags\"}, {\"type\": \"BOOLEAN\", \"name\": \"has_Gingivitis\"}, {\"type\": \"BOOLEAN\", \"name\": \"has_Temporomandibular_joint_TMJ_disorder\"}, {\"type\": \"BOOLEAN\", \"name\": \"has_Canker_sores_oral_ulcers\"}, {\"type\": \"BOOLEAN\", \"name\": \"has_Gastroesophageal_reflux_disease_GERD\"}, {\"type\": \"BOOLEAN\", \"name\": \"has_Hiatal_hernia\"}, {\"type\": \"BOOLEAN\", \"name\": \"has_Nonalcoholic_fatty_liver_disease_NAFLD\"}, {\"type\": \"BOOLEAN\", \"name\": \"has_Hypertension\"}, {\"type\": \"BOOLEAN\", \"name\": \"has_Hemorrhoids\"}, {\"type\": \"BOOLEAN\", \"name\": \"has_Meniere_s_disease\"}, {\"type\": \"BOOLEAN\", \"name\": \"has_Tinnitus\"}, {\"type\": \"BOOLEAN\", \"name\": \"has_High_triglycerides_hypertriglyceridemia\"}, {\"type\": \"BOOLEAN\", \"name\": \"has_Thyroid_nodule_s\"}, {\"type\": \"BOOLEAN\", \"name\": \"has_Hashimoto_s_thyroiditis\"}, {\"type\": \"BOOLEAN\", \"name\": \"has_Colon_polyps\"}, {\"type\": \"BOOLEAN\", \"name\": \"has_Scoliosis\"}, {\"type\": \"BOOLEAN\", \"name\": \"has_Lichen_planus\"}, {\"type\": \"BOOLEAN\", \"name\": \"has_Cafe_au_lait_spots\"}, {\"type\": \"BOOLEAN\", \"name\": \"has_Myopia_Nearsightedness\"}, {\"type\": \"BOOLEAN\", \"name\": \"has_Floaters\"}, {\"type\": \"BOOLEAN\", \"name\": \"has_Hypothyroidism\"}, {\"type\": \"BOOLEAN\", \"name\": \"has_High_cholesterol_hypercholesterolemia\"}, {\"type\": \"BOOLEAN\", \"name\": \"has_Presbyopia\"}, {\"type\": \"BOOLEAN\", \"name\": \"has_Trigger_finger\"}, {\"type\": \"BOOLEAN\", \"name\": \"has_Dupuytren_s_contracture\"}, {\"type\": \"BOOLEAN\", \"name\": \"has_Plantar_fasciitis\"}, {\"type\": \"BOOLEAN\", \"name\": \"has_Fibromyalgia\"}, {\"type\": \"BOOLEAN\", \"name\": \"has_Eczema\"}, {\"type\": \"BOOLEAN\", \"name\": \"has_Fibrocystic_breast_disease\"}, {\"type\": \"BOOLEAN\", \"name\": \"has_Premature_ventricular_contractions\"}, {\"type\": \"BOOLEAN\", \"name\": \"has_Cardiac_arrhythmia\"}, {\"type\": \"BOOLEAN\", \"name\": \"has_Restless_legs_syndrome\"}, {\"type\": \"BOOLEAN\", \"name\": \"has_Cluster_headaches\"}, {\"type\": \"BOOLEAN\", \"name\": \"has_Carpal_tunnel_syndrome\"}, {\"type\": \"BOOLEAN\", \"name\": \"has_Other_peripheral_neuropathy\"}, {\"type\": \"BOOLEAN\", \"name\": \"has_Uterine_fibroids\"}, {\"type\": \"BOOLEAN\", \"name\": \"has_Flatfeet\"}, {\"type\": \"BOOLEAN\", \"name\": \"has_Inguinal_hernia\"}, {\"type\": \"BOOLEAN\", \"name\": \"has_Age_related_hearing_loss\"}, {\"type\": \"BOOLEAN\", \"name\": \"has_Non_melanoma_skin_cancer\"}, {\"type\": \"BOOLEAN\", \"name\": \"has_Hair_loss_includes_female_and_male_pattern_baldness\"}, {\"type\": \"BOOLEAN\", \"name\": \"has_Acne\"}, {\"type\": \"BOOLEAN\", \"name\": \"has_Rosacea\"}, {\"type\": \"BOOLEAN\", \"name\": \"has_Geographic_tongue\"}, {\"type\": \"BOOLEAN\", \"name\": \"has_Irritable_bowel_syndrome_IBS\"}, {\"type\": \"BOOLEAN\", \"name\": \"has_Spinal_stenosis\"}, {\"type\": \"BOOLEAN\", \"name\": \"has_Kidney_stones\"}, {\"type\": \"BOOLEAN\", \"name\": \"has_Male_infertility\"}, {\"type\": \"BOOLEAN\", \"name\": \"has_Diverticulosis\"}, {\"type\": \"BOOLEAN\", \"name\": \"has_Deviated_septum\"}, {\"type\": \"BOOLEAN\", \"name\": \"has_Diabetes_mellitus\"}, {\"type\": \"BOOLEAN\", \"name\": \"has_type_2\"}, {\"type\": \"BOOLEAN\", \"name\": \"has_Astigmatism\"}, {\"type\": \"BOOLEAN\", \"name\": \"has_Peptic_ulcer_stomach_or_duodenum\"}, {\"type\": \"BOOLEAN\", \"name\": \"has_Appendicitis\"}, {\"type\": \"BOOLEAN\", \"name\": \"has_Age_related_cataract\"}, {\"type\": \"BOOLEAN\", \"name\": \"has_Bone_spurs\"}, {\"type\": \"BOOLEAN\", \"name\": \"has_Rheumatoid_arthritis\"}, {\"type\": \"BOOLEAN\", \"name\": \"has_Hemochromatosis\"}, {\"type\": \"BOOLEAN\", \"name\": \"has_Graves_disease\"}, {\"type\": \"BOOLEAN\", \"name\": \"has_Congenital_heart_defect\"}, {\"type\": \"BOOLEAN\", \"name\": \"has_Chronic_bronchitis\"}, {\"type\": \"BOOLEAN\", \"name\": \"has_Mitral_valve_prolapse\"}, {\"type\": \"BOOLEAN\", \"name\": \"has_Epilepsy\"}, {\"type\": \"BOOLEAN\", \"name\": \"has_Hemophilia\"}, {\"type\": \"BOOLEAN\", \"name\": \"has_Melanoma\"}, {\"type\": \"BOOLEAN\", \"name\": \"has_Chronic_liver_disease_and_cirrhosis\"}, {\"type\": \"BOOLEAN\", \"name\": \"has_Age_related_macular_degeneration\"}, {\"type\": \"BOOLEAN\", \"name\": \"has_Sensorineural_hearing_loss_or_congenital_deafness\"}, {\"type\": \"BOOLEAN\", \"name\": \"has_Hyperhidrosis_excessive_sweating\"}, {\"type\": \"BOOLEAN\", \"name\": \"has_Fissured_tongue\"}, {\"type\": \"BOOLEAN\", \"name\": \"has_Nasal_polyps\"}, {\"type\": \"BOOLEAN\", \"name\": \"has_Chronic_sinusitis\"}, {\"type\": \"BOOLEAN\", \"name\": \"has_Bunions\"}, {\"type\": \"BOOLEAN\", \"name\": \"has_Osteoporosis\"}, {\"type\": \"BOOLEAN\", \"name\": \"has_Strabismus\"}, {\"type\": \"BOOLEAN\", \"name\": \"has_Amyotrophic_lateral_sclerosis_ALS\"}, {\"type\": \"BOOLEAN\", \"name\": \"has_Frozen_shoulder\"}, {\"type\": \"BOOLEAN\", \"name\": \"has_Single_transverse_palmar_crease_simian_crease\"}, {\"type\": \"BOOLEAN\", \"name\": \"has_Dermatographia\"}, {\"type\": \"BOOLEAN\", \"name\": \"has_Rotator_cuff_tear\"}, {\"type\": \"BOOLEAN\", \"name\": \"has_Lipoma\"}, {\"type\": \"BOOLEAN\", \"name\": \"has_Polycystic_ovary_syndrome_PCOS\"}, {\"type\": \"BOOLEAN\", \"name\": \"has_Hereditary_motor_and_sensory_neuropathy_includes_Charcot_Marie_Tooth_disease_and_HNPP\"}, {\"type\": \"BOOLEAN\", \"name\": \"has_Varicose_veins\"}, {\"type\": \"BOOLEAN\", \"name\": \"has_Retinal_detachment\"}, {\"type\": \"BOOLEAN\", \"name\": \"has_Prostate_cancer\"}, {\"type\": \"BOOLEAN\", \"name\": \"has_Spermatocele\"}, {\"type\": \"BOOLEAN\", \"name\": \"has_Varicocele\"}, {\"type\": \"BOOLEAN\", \"name\": \"has_Essential_tremor\"}, {\"type\": \"BOOLEAN\", \"name\": \"has_Hereditary_thrombophilia_includes_Factor_V_Leiden_and_Prothrombin_G20210A\"}, {\"type\": \"BOOLEAN\", \"name\": \"has_Breast_cancer\"}, {\"type\": \"BOOLEAN\", \"name\": \"has_Celiac_disease\"}, {\"type\": \"BOOLEAN\", \"name\": \"has_Multiple_sclerosis_MS\"}, {\"type\": \"BOOLEAN\", \"name\": \"has_Migraine_without_aura\"}, {\"type\": \"BOOLEAN\", \"name\": \"has_Ehlers_Danlos_syndrome\"}, {\"type\": \"BOOLEAN\", \"name\": \"has_Bartholin_s_cyst\"}, {\"type\": \"BOOLEAN\", \"name\": \"has_Tennis_elbow\"}, {\"type\": \"BOOLEAN\", \"name\": \"has_Angina\"}, {\"type\": \"BOOLEAN\", \"name\": \"has_Atrial_fibrillation\"}, {\"type\": \"BOOLEAN\", \"name\": \"has_Idiopathic_thrombocytopenic_purpura_ITP\"}, {\"type\": \"BOOLEAN\", \"name\": \"has_Heart_block\"}, {\"type\": \"BOOLEAN\", \"name\": \"has_Pilonidal_cyst\"}, {\"type\": \"BOOLEAN\", \"name\": \"has_Psoriasis\"}, {\"type\": \"BOOLEAN\", \"name\": \"has_Bundle_branch_block\"}, {\"type\": \"BOOLEAN\", \"name\": \"has_Chondromalacia_patella_CMP\"}, {\"type\": \"BOOLEAN\", \"name\": \"has_Rectal_prolapse\"}, {\"type\": \"BOOLEAN\", \"name\": \"has_Raynaud_s_phenomenon\"}, {\"type\": \"BOOLEAN\", \"name\": \"has_Dry_eye_syndrome\"}, {\"type\": \"BOOLEAN\", \"name\": \"has_Other_thrombophilia_includes_antiphospholipid_syndrome\"}, {\"type\": \"BOOLEAN\", \"name\": \"has_Tongue_tie_ankyloglossia\"}, {\"type\": \"BOOLEAN\", \"name\": \"has_Marfan_syndrome\"}, {\"type\": \"BOOLEAN\", \"name\": \"has_Color_blindness\"}, {\"type\": \"BOOLEAN\", \"name\": \"has_Breast_fibroadenoma\"}, {\"type\": \"BOOLEAN\", \"name\": \"has_Crohn_s_disease\"}, {\"type\": \"BOOLEAN\", \"name\": \"has_Thyroid_cancer\"}, {\"type\": \"BOOLEAN\", \"name\": \"has_Non_Hodgkin_lymphoma\"}, {\"type\": \"BOOLEAN\", \"name\": \"has_Female_infertility\"}, {\"type\": \"BOOLEAN\", \"name\": \"has_Sjogren_s_syndrome_Sicca_syndrome\"}, {\"type\": \"BOOLEAN\", \"name\": \"has_Benign_prostatic_hypertrophy_BPH\"}, {\"type\": \"BOOLEAN\", \"name\": \"has_Osgood_Schlatter_disease\"}, {\"type\": \"BOOLEAN\", \"name\": \"has_Postural_kyphosis\"}, {\"type\": \"BOOLEAN\", \"name\": \"has_Parkinson_s_disease\"}, {\"type\": \"BOOLEAN\", \"name\": \"has_Narcolepsy\"}, {\"type\": \"BOOLEAN\", \"name\": \"has_Pernicious_anemia_a_k_a_Addison_Biermer_anemia\"}, {\"type\": \"BOOLEAN\", \"name\": \"has_Trigeminal_neuralgia\"}, {\"type\": \"BOOLEAN\", \"name\": \"has_Non_Celiac_Gluten_Sensitivity\"}, {\"type\": \"BOOLEAN\", \"name\": \"has_Gout\"}, {\"type\": \"BOOLEAN\", \"name\": \"has_Deep_vein_thrombosis_DVT\"}, {\"type\": \"BOOLEAN\", \"name\": \"has_Hereditary_hemorrhagic_telangiectasia_also_known_as_Osler_Weber_Rendu_syndrome\"}, {\"type\": \"BOOLEAN\", \"name\": \"has_Ulcerative_colitis\"}, {\"type\": \"BOOLEAN\", \"name\": \"has_Polydactyly\"}, {\"type\": \"BOOLEAN\", \"name\": \"has_Uterine_prolapse\"}, {\"type\": \"BOOLEAN\", \"name\": \"has_Gilbert_syndrome\"}, {\"type\": \"BOOLEAN\", \"name\": \"has_Spina_bifida\"}, {\"type\": \"BOOLEAN\", \"name\": \"has_Long_QT_Syndrome\"}, {\"type\": \"BOOLEAN\", \"name\": \"has_type_1\"}, {\"type\": \"BOOLEAN\", \"name\": \"has_Myocardial_infarction_heart_attack\"}, {\"type\": \"BOOLEAN\", \"name\": \"has_Congestive_heart_failure\"}, {\"type\": \"BOOLEAN\", \"name\": \"has_Glaucoma\"}, {\"type\": \"BOOLEAN\", \"name\": \"has_Chronic_tension_headaches_15_days_per_month\"}, {\"type\": \"BOOLEAN\", \"name\": \"has_at_least_6_months\"}, {\"type\": \"BOOLEAN\", \"name\": \"has_Barrett_s_esophagus\"}, {\"type\": \"BOOLEAN\", \"name\": \"has_Peyronie_s_disease\"}, {\"type\": \"BOOLEAN\", \"name\": \"has_Diabetic_retinopathy\"}, {\"type\": \"BOOLEAN\", \"name\": \"has_Lung_cancer\"}, {\"type\": \"BOOLEAN\", \"name\": \"has_Acute_liver_failure\"}, {\"type\": \"BOOLEAN\", \"name\": \"has_Sick_sinus_syndrome_includes_tachy_brady_syndrome\"}, {\"type\": \"BOOLEAN\", \"name\": \"has_Traumatic_cataract\"}, {\"type\": \"BOOLEAN\", \"name\": \"has_Hypospadias\"}, {\"type\": \"BOOLEAN\", \"name\": \"has_Stomach_cancer\"}, {\"type\": \"BOOLEAN\", \"name\": \"has_Colon_cancer\"}, {\"type\": \"BOOLEAN\", \"name\": \"has_Rectal_cancer\"}, {\"type\": \"BOOLEAN\", \"name\": \"has_Pancreatic_cancer\"}, {\"type\": \"BOOLEAN\", \"name\": \"has_Endometrial_cancer\"}, {\"type\": \"BOOLEAN\", \"name\": \"has_Ovarian_cancer\"}, {\"type\": \"BOOLEAN\", \"name\": \"has_Bladder_cancer\"}, {\"type\": \"BOOLEAN\", \"name\": \"has_Kidney_cancer\"}, {\"type\": \"BOOLEAN\", \"name\": \"has_Leukemia\"}, {\"type\": \"BOOLEAN\", \"name\": \"has_Polycythemia_vera\"}, {\"type\": \"BOOLEAN\", \"name\": \"has_Essential_thrombocythemia\"}, {\"type\": \"BOOLEAN\", \"name\": \"has_Neurofibromatosis\"}, {\"type\": \"BOOLEAN\", \"name\": \"has_Brain_cancer\"}, {\"type\": \"BOOLEAN\", \"name\": \"has_Wolff_Parkinson_White_WPW_Syndrome\"}, {\"type\": \"BOOLEAN\", \"name\": \"has_Cleft_palate\"}, {\"type\": \"BOOLEAN\", \"name\": \"has_Recurrent_sleep_paralysis\"}, {\"type\": \"BOOLEAN\", \"name\": \"has_Folate_deficiency_anemia\"}, {\"type\": \"BOOLEAN\", \"name\": \"has_Syndactyly_webbing_of_digits\"}, {\"type\": \"BOOLEAN\", \"name\": \"has_Alopecia_areata\"}, {\"type\": \"BOOLEAN\", \"name\": \"has_Scheuermann_s_kyphosis\"}, {\"type\": \"BOOLEAN\", \"name\": \"has_Bell_s_palsy\"}, {\"type\": \"BOOLEAN\", \"name\": \"has_Growth_hormone_deficiency\"}, {\"type\": \"BOOLEAN\", \"name\": \"has_Pulmonary_embolism\"}, {\"type\": \"BOOLEAN\", \"name\": \"has_Other_cardiomyopathy_including_ARVD\"}, {\"type\": \"BOOLEAN\", \"name\": \"has_Von_Willebrand_disease\"}, {\"type\": \"BOOLEAN\", \"name\": \"has_Polycystic_kidney_disease\"}, {\"type\": \"BOOLEAN\", \"name\": \"has_Stroke\"}, {\"type\": \"BOOLEAN\", \"name\": \"has_Acute_kidney_failure\"}, {\"type\": \"BOOLEAN\", \"name\": \"has_Otosclerosis\"}, {\"type\": \"BOOLEAN\", \"name\": \"has_Lupus\"}, {\"type\": \"BOOLEAN\", \"name\": \"has_Arnold_Chiari_malformation\"}, {\"type\": \"BOOLEAN\", \"name\": \"has_Congenital_nystagmus\"}, {\"type\": \"BOOLEAN\", \"name\": \"has_Emphysema\"}, {\"type\": \"BOOLEAN\", \"name\": \"has_Chronic_Obstructive_Pulmonary_Disease_COPD\"}, {\"type\": \"BOOLEAN\", \"name\": \"has_Congenital_clubfoot_equinovarus\"}, {\"type\": \"BOOLEAN\", \"name\": \"has_Alpha_1_antitrypsin_deficiency\"}, {\"type\": \"BOOLEAN\", \"name\": \"has_Sickle_cell_trait_carrier\"}, {\"type\": \"BOOLEAN\", \"name\": \"has_Infantile\"}, {\"type\": \"BOOLEAN\", \"name\": \"has_juvenile\"}, {\"type\": \"BOOLEAN\", \"name\": \"has_and_presenile_cataract\"}, {\"type\": \"BOOLEAN\", \"name\": \"has_Huntington_s_disease\"}, {\"type\": \"BOOLEAN\", \"name\": \"has_Porphyria\"}, {\"type\": \"BOOLEAN\", \"name\": \"has_Hidradenitis_suppurativa\"}, {\"type\": \"BOOLEAN\", \"name\": \"has_Aortic_aneurysm\"}, {\"type\": \"BOOLEAN\", \"name\": \"has_Dilated_cardiomyopathy\"}, {\"type\": \"BOOLEAN\", \"name\": \"has_Urethral_diverticulum\"}, {\"type\": \"BOOLEAN\", \"name\": \"has_Diverticulitis_Urinary_Tract\"}, {\"type\": \"BOOLEAN\", \"name\": \"has_Hypertrophic_cardiomyopathy\"}, {\"type\": \"BOOLEAN\", \"name\": \"has_Keratoconus\"}, {\"type\": \"BOOLEAN\", \"name\": \"has_Central_serous_retinopathy\"}, {\"type\": \"BOOLEAN\", \"name\": \"has_Developmental_dysplasia_of_the_hip\"}, {\"type\": \"BOOLEAN\", \"name\": \"has_Retinitis_pigmentosa\"}, {\"type\": \"BOOLEAN\", \"name\": \"has_Cleft_uvula\"}, {\"type\": \"BOOLEAN\", \"name\": \"has_Muscular_dystrophy\"}, {\"type\": \"BOOLEAN\", \"name\": \"has_Congenital_ichthyosis\"}, {\"type\": \"BOOLEAN\", \"name\": \"has_Autoimmune_hemolytic_anemia\"}, {\"type\": \"BOOLEAN\", \"name\": \"has_Infantile_pyloric_stenosis\"}, {\"type\": \"BOOLEAN\", \"name\": \"has_Hypertensive_retinopathy\"}, {\"type\": \"BOOLEAN\", \"name\": \"has_G6PD_deficiency\"}, {\"type\": \"BOOLEAN\", \"name\": \"has_Other_aneurysm\"}, {\"type\": \"BOOLEAN\", \"name\": \"has_Congenital_hydronephrosis\"}]);\n",
        "          }\n",
        "      );\n",
        "    </script>\n",
        "    "
       ],
       "metadata": {},
       "output_type": "pyout",
       "prompt_number": 31,
       "text": [
        "[{ 'name': 'Participant', 'type': 'STRING', 'mode':'None', 'description': 'None' },\n",
        " { 'name': 'Year_of_birth', 'type': 'STRING', 'mode':'None', 'description': 'None' },\n",
        " { 'name': 'Which_statement_best_describes_you', 'type': 'STRING', 'mode':'None', 'description': 'None' },\n",
        " { 'name': 'Severe_disease_or_rare_genetic_trait', 'type': 'STRING', 'mode':'None', 'description': 'None' },\n",
        " { 'name': 'Disease_trait_Onset', 'type': 'STRING', 'mode':'None', 'description': 'None' },\n",
        " { 'name': 'Disease_trait_Rarity', 'type': 'STRING', 'mode':'None', 'description': 'None' },\n",
        " { 'name': 'Disease_trait_Severity', 'type': 'STRING', 'mode':'None', 'description': 'None' },\n",
        " { 'name': 'Disease_trait_Relative_enrollment', 'type': 'STRING', 'mode':'None', 'description': 'None' },\n",
        " { 'name': 'Disease_trait_Diagnosis', 'type': 'STRING', 'mode':'None', 'description': 'None' },\n",
        " { 'name': 'Disease_trait_Genetic_confirmation', 'type': 'STRING', 'mode':'None', 'description': 'None' },\n",
        " { 'name': 'Disease_trait_Documentation', 'type': 'STRING', 'mode':'None', 'description': 'None' },\n",
        " { 'name': 'Sex_Gender', 'type': 'STRING', 'mode':'None', 'description': 'None' },\n",
        " { 'name': 'Race_ethnicity', 'type': 'STRING', 'mode':'None', 'description': 'None' },\n",
        " { 'name': 'Maternal_grandmother_Country_of_origin', 'type': 'STRING', 'mode':'None', 'description': 'None' },\n",
        " { 'name': 'Paternal_grandmother_Country_of_origin', 'type': 'STRING', 'mode':'None', 'description': 'None' },\n",
        " { 'name': 'Paternal_grandfather_Country_of_origin', 'type': 'STRING', 'mode':'None', 'description': 'None' },\n",
        " { 'name': 'Maternal_grandfather_Country_of_origin', 'type': 'STRING', 'mode':'None', 'description': 'None' },\n",
        " { 'name': 'Enrollment_of_relatives', 'type': 'STRING', 'mode':'None', 'description': 'None' },\n",
        " { 'name': 'Enrollment_of_older_individuals', 'type': 'STRING', 'mode':'None', 'description': 'None' },\n",
        " { 'name': 'Enrollment_of_parents', 'type': 'STRING', 'mode':'None', 'description': 'None' },\n",
        " { 'name': 'Enrolled_relatives_Monozygotic_Identical_twins', 'type': 'STRING', 'mode':'None', 'description': 'None' },\n",
        " { 'name': 'Enrolled_relatives_Parents', 'type': 'STRING', 'mode':'None', 'description': 'None' },\n",
        " { 'name': 'Enrolled_relatives_Siblings_Fraternal_twins', 'type': 'STRING', 'mode':'None', 'description': 'None' },\n",
        " { 'name': 'Enrolled_relatives_Children', 'type': 'STRING', 'mode':'None', 'description': 'None' },\n",
        " { 'name': 'Enrolled_relatives_Grandparents', 'type': 'STRING', 'mode':'None', 'description': 'None' },\n",
        " { 'name': 'Enrolled_relatives_Grandchildren', 'type': 'BOOLEAN', 'mode':'None', 'description': 'None' },\n",
        " { 'name': 'Enrolled_relatives_Aunts_Uncles', 'type': 'STRING', 'mode':'None', 'description': 'None' },\n",
        " { 'name': 'Enrolled_relatives_Nephews_Nieces', 'type': 'STRING', 'mode':'None', 'description': 'None' },\n",
        " { 'name': 'Enrolled_relatives_Half_siblings', 'type': 'BOOLEAN', 'mode':'None', 'description': 'None' },\n",
        " { 'name': 'Enrolled_relatives_Cousins_or_more_distant', 'type': 'STRING', 'mode':'None', 'description': 'None' },\n",
        " { 'name': 'Enrolled_relatives_Not_genetically_related_e_g_husband_wife', 'type': 'STRING', 'mode':'None', 'description': 'None' },\n",
        " { 'name': 'Are_all_your_enrolled_relatives_linked_to_your_PGP_profile', 'type': 'STRING', 'mode':'None', 'description': 'None' },\n",
        " { 'name': 'Have_you_uploaded_genetic_data_to_your_PGP_participant_profile', 'type': 'STRING', 'mode':'None', 'description': 'None' },\n",
        " { 'name': 'Have_you_used_the_PGP_web_interface_to_record_a_designated_proxy', 'type': 'STRING', 'mode':'None', 'description': 'None' },\n",
        " { 'name': 'Have_you_uploaded_health_record_data_using_our_Google_Health_or_Microsoft_Healthvault_interfaces', 'type': 'STRING', 'mode':'None', 'description': 'None' },\n",
        " { 'name': 'Uploaded_health_records_Update_status', 'type': 'STRING', 'mode':'None', 'description': 'None' },\n",
        " { 'name': 'Uploaded_health_records_Extensiveness', 'type': 'INTEGER', 'mode':'None', 'description': 'None' },\n",
        " { 'name': 'Blood_sample', 'type': 'STRING', 'mode':'None', 'description': 'None' },\n",
        " { 'name': 'Saliva_sample', 'type': 'STRING', 'mode':'None', 'description': 'None' },\n",
        " { 'name': 'Microbiome_samples', 'type': 'STRING', 'mode':'None', 'description': 'None' },\n",
        " { 'name': 'Tissue_samples_from_surgery', 'type': 'STRING', 'mode':'None', 'description': 'None' },\n",
        " { 'name': 'Tissue_samples_from_autopsy', 'type': 'STRING', 'mode':'None', 'description': 'None' },\n",
        " { 'name': 'Month_of_birth', 'type': 'STRING', 'mode':'None', 'description': 'None' },\n",
        " { 'name': 'Anatomical_sex_at_birth', 'type': 'STRING', 'mode':'None', 'description': 'None' },\n",
        " { 'name': 'Maternal_grandmother_Race_ethnicity', 'type': 'STRING', 'mode':'None', 'description': 'None' },\n",
        " { 'name': 'Maternal_grandfather_Race_ethnicity', 'type': 'STRING', 'mode':'None', 'description': 'None' },\n",
        " { 'name': 'Paternal_grandmother_Race_ethnicity', 'type': 'STRING', 'mode':'None', 'description': 'None' },\n",
        " { 'name': 'Paternal_grandfather_Race_ethnicity', 'type': 'STRING', 'mode':'None', 'description': 'None' },\n",
        " { 'name': 'has_NA', 'type': 'BOOLEAN', 'mode':'None', 'description': 'None' },\n",
        " { 'name': 'has_Sciatica', 'type': 'BOOLEAN', 'mode':'None', 'description': 'None' },\n",
        " { 'name': 'has_Allergic_contact_dermatitis', 'type': 'BOOLEAN', 'mode':'None', 'description': 'None' },\n",
        " { 'name': 'has_Urinary_tract_infection_UTI', 'type': 'BOOLEAN', 'mode':'None', 'description': 'None' },\n",
        " { 'name': 'has_Endometriosis', 'type': 'BOOLEAN', 'mode':'None', 'description': 'None' },\n",
        " { 'name': 'has_Ovarian_cysts', 'type': 'BOOLEAN', 'mode':'None', 'description': 'None' },\n",
        " { 'name': 'has_Impacted_tooth', 'type': 'BOOLEAN', 'mode':'None', 'description': 'None' },\n",
        " { 'name': 'has_Dental_cavities', 'type': 'BOOLEAN', 'mode':'None', 'description': 'None' },\n",
        " { 'name': 'has_Gallstones', 'type': 'BOOLEAN', 'mode':'None', 'description': 'None' },\n",
        " { 'name': 'has_Chronic_tonsillitis', 'type': 'BOOLEAN', 'mode':'None', 'description': 'None' },\n",
        " { 'name': 'has_Allergic_rhinitis', 'type': 'BOOLEAN', 'mode':'None', 'description': 'None' },\n",
        " { 'name': 'has_Asthma', 'type': 'BOOLEAN', 'mode':'None', 'description': 'None' },\n",
        " { 'name': 'has_Hyperopia_Farsightedness', 'type': 'BOOLEAN', 'mode':'None', 'description': 'None' },\n",
        " { 'name': 'has_Iron_deficiency_anemia', 'type': 'BOOLEAN', 'mode':'None', 'description': 'None' },\n",
        " { 'name': 'has_Migraine_with_aura', 'type': 'BOOLEAN', 'mode':'None', 'description': 'None' },\n",
        " { 'name': 'has_Lactose_intolerance', 'type': 'BOOLEAN', 'mode':'None', 'description': 'None' },\n",
        " { 'name': 'has_Cervical_cancer', 'type': 'BOOLEAN', 'mode':'None', 'description': 'None' },\n",
        " { 'name': 'has_Osteoarthritis', 'type': 'BOOLEAN', 'mode':'None', 'description': 'None' },\n",
        " { 'name': 'has_Achilles_tendonitis', 'type': 'BOOLEAN', 'mode':'None', 'description': 'None' },\n",
        " { 'name': 'has_Dandruff', 'type': 'BOOLEAN', 'mode':'None', 'description': 'None' },\n",
        " { 'name': 'has_Keloids', 'type': 'BOOLEAN', 'mode':'None', 'description': 'None' },\n",
        " { 'name': 'has_Skin_tags', 'type': 'BOOLEAN', 'mode':'None', 'description': 'None' },\n",
        " { 'name': 'has_Gingivitis', 'type': 'BOOLEAN', 'mode':'None', 'description': 'None' },\n",
        " { 'name': 'has_Temporomandibular_joint_TMJ_disorder', 'type': 'BOOLEAN', 'mode':'None', 'description': 'None' },\n",
        " { 'name': 'has_Canker_sores_oral_ulcers', 'type': 'BOOLEAN', 'mode':'None', 'description': 'None' },\n",
        " { 'name': 'has_Gastroesophageal_reflux_disease_GERD', 'type': 'BOOLEAN', 'mode':'None', 'description': 'None' },\n",
        " { 'name': 'has_Hiatal_hernia', 'type': 'BOOLEAN', 'mode':'None', 'description': 'None' },\n",
        " { 'name': 'has_Nonalcoholic_fatty_liver_disease_NAFLD', 'type': 'BOOLEAN', 'mode':'None', 'description': 'None' },\n",
        " { 'name': 'has_Hypertension', 'type': 'BOOLEAN', 'mode':'None', 'description': 'None' },\n",
        " { 'name': 'has_Hemorrhoids', 'type': 'BOOLEAN', 'mode':'None', 'description': 'None' },\n",
        " { 'name': 'has_Meniere_s_disease', 'type': 'BOOLEAN', 'mode':'None', 'description': 'None' },\n",
        " { 'name': 'has_Tinnitus', 'type': 'BOOLEAN', 'mode':'None', 'description': 'None' },\n",
        " { 'name': 'has_High_triglycerides_hypertriglyceridemia', 'type': 'BOOLEAN', 'mode':'None', 'description': 'None' },\n",
        " { 'name': 'has_Thyroid_nodule_s', 'type': 'BOOLEAN', 'mode':'None', 'description': 'None' },\n",
        " { 'name': 'has_Hashimoto_s_thyroiditis', 'type': 'BOOLEAN', 'mode':'None', 'description': 'None' },\n",
        " { 'name': 'has_Colon_polyps', 'type': 'BOOLEAN', 'mode':'None', 'description': 'None' },\n",
        " { 'name': 'has_Scoliosis', 'type': 'BOOLEAN', 'mode':'None', 'description': 'None' },\n",
        " { 'name': 'has_Lichen_planus', 'type': 'BOOLEAN', 'mode':'None', 'description': 'None' },\n",
        " { 'name': 'has_Cafe_au_lait_spots', 'type': 'BOOLEAN', 'mode':'None', 'description': 'None' },\n",
        " { 'name': 'has_Myopia_Nearsightedness', 'type': 'BOOLEAN', 'mode':'None', 'description': 'None' },\n",
        " { 'name': 'has_Floaters', 'type': 'BOOLEAN', 'mode':'None', 'description': 'None' },\n",
        " { 'name': 'has_Hypothyroidism', 'type': 'BOOLEAN', 'mode':'None', 'description': 'None' },\n",
        " { 'name': 'has_High_cholesterol_hypercholesterolemia', 'type': 'BOOLEAN', 'mode':'None', 'description': 'None' },\n",
        " { 'name': 'has_Presbyopia', 'type': 'BOOLEAN', 'mode':'None', 'description': 'None' },\n",
        " { 'name': 'has_Trigger_finger', 'type': 'BOOLEAN', 'mode':'None', 'description': 'None' },\n",
        " { 'name': 'has_Dupuytren_s_contracture', 'type': 'BOOLEAN', 'mode':'None', 'description': 'None' },\n",
        " { 'name': 'has_Plantar_fasciitis', 'type': 'BOOLEAN', 'mode':'None', 'description': 'None' },\n",
        " { 'name': 'has_Fibromyalgia', 'type': 'BOOLEAN', 'mode':'None', 'description': 'None' },\n",
        " { 'name': 'has_Eczema', 'type': 'BOOLEAN', 'mode':'None', 'description': 'None' },\n",
        " { 'name': 'has_Fibrocystic_breast_disease', 'type': 'BOOLEAN', 'mode':'None', 'description': 'None' },\n",
        " { 'name': 'has_Premature_ventricular_contractions', 'type': 'BOOLEAN', 'mode':'None', 'description': 'None' },\n",
        " { 'name': 'has_Cardiac_arrhythmia', 'type': 'BOOLEAN', 'mode':'None', 'description': 'None' },\n",
        " { 'name': 'has_Restless_legs_syndrome', 'type': 'BOOLEAN', 'mode':'None', 'description': 'None' },\n",
        " { 'name': 'has_Cluster_headaches', 'type': 'BOOLEAN', 'mode':'None', 'description': 'None' },\n",
        " { 'name': 'has_Carpal_tunnel_syndrome', 'type': 'BOOLEAN', 'mode':'None', 'description': 'None' },\n",
        " { 'name': 'has_Other_peripheral_neuropathy', 'type': 'BOOLEAN', 'mode':'None', 'description': 'None' },\n",
        " { 'name': 'has_Uterine_fibroids', 'type': 'BOOLEAN', 'mode':'None', 'description': 'None' },\n",
        " { 'name': 'has_Flatfeet', 'type': 'BOOLEAN', 'mode':'None', 'description': 'None' },\n",
        " { 'name': 'has_Inguinal_hernia', 'type': 'BOOLEAN', 'mode':'None', 'description': 'None' },\n",
        " { 'name': 'has_Age_related_hearing_loss', 'type': 'BOOLEAN', 'mode':'None', 'description': 'None' },\n",
        " { 'name': 'has_Non_melanoma_skin_cancer', 'type': 'BOOLEAN', 'mode':'None', 'description': 'None' },\n",
        " { 'name': 'has_Hair_loss_includes_female_and_male_pattern_baldness', 'type': 'BOOLEAN', 'mode':'None', 'description': 'None' },\n",
        " { 'name': 'has_Acne', 'type': 'BOOLEAN', 'mode':'None', 'description': 'None' },\n",
        " { 'name': 'has_Rosacea', 'type': 'BOOLEAN', 'mode':'None', 'description': 'None' },\n",
        " { 'name': 'has_Geographic_tongue', 'type': 'BOOLEAN', 'mode':'None', 'description': 'None' },\n",
        " { 'name': 'has_Irritable_bowel_syndrome_IBS', 'type': 'BOOLEAN', 'mode':'None', 'description': 'None' },\n",
        " { 'name': 'has_Spinal_stenosis', 'type': 'BOOLEAN', 'mode':'None', 'description': 'None' },\n",
        " { 'name': 'has_Kidney_stones', 'type': 'BOOLEAN', 'mode':'None', 'description': 'None' },\n",
        " { 'name': 'has_Male_infertility', 'type': 'BOOLEAN', 'mode':'None', 'description': 'None' },\n",
        " { 'name': 'has_Diverticulosis', 'type': 'BOOLEAN', 'mode':'None', 'description': 'None' },\n",
        " { 'name': 'has_Deviated_septum', 'type': 'BOOLEAN', 'mode':'None', 'description': 'None' },\n",
        " { 'name': 'has_Diabetes_mellitus', 'type': 'BOOLEAN', 'mode':'None', 'description': 'None' },\n",
        " { 'name': 'has_type_2', 'type': 'BOOLEAN', 'mode':'None', 'description': 'None' },\n",
        " { 'name': 'has_Astigmatism', 'type': 'BOOLEAN', 'mode':'None', 'description': 'None' },\n",
        " { 'name': 'has_Peptic_ulcer_stomach_or_duodenum', 'type': 'BOOLEAN', 'mode':'None', 'description': 'None' },\n",
        " { 'name': 'has_Appendicitis', 'type': 'BOOLEAN', 'mode':'None', 'description': 'None' },\n",
        " { 'name': 'has_Age_related_cataract', 'type': 'BOOLEAN', 'mode':'None', 'description': 'None' },\n",
        " { 'name': 'has_Bone_spurs', 'type': 'BOOLEAN', 'mode':'None', 'description': 'None' },\n",
        " { 'name': 'has_Rheumatoid_arthritis', 'type': 'BOOLEAN', 'mode':'None', 'description': 'None' },\n",
        " { 'name': 'has_Hemochromatosis', 'type': 'BOOLEAN', 'mode':'None', 'description': 'None' },\n",
        " { 'name': 'has_Graves_disease', 'type': 'BOOLEAN', 'mode':'None', 'description': 'None' },\n",
        " { 'name': 'has_Congenital_heart_defect', 'type': 'BOOLEAN', 'mode':'None', 'description': 'None' },\n",
        " { 'name': 'has_Chronic_bronchitis', 'type': 'BOOLEAN', 'mode':'None', 'description': 'None' },\n",
        " { 'name': 'has_Mitral_valve_prolapse', 'type': 'BOOLEAN', 'mode':'None', 'description': 'None' },\n",
        " { 'name': 'has_Epilepsy', 'type': 'BOOLEAN', 'mode':'None', 'description': 'None' },\n",
        " { 'name': 'has_Hemophilia', 'type': 'BOOLEAN', 'mode':'None', 'description': 'None' },\n",
        " { 'name': 'has_Melanoma', 'type': 'BOOLEAN', 'mode':'None', 'description': 'None' },\n",
        " { 'name': 'has_Chronic_liver_disease_and_cirrhosis', 'type': 'BOOLEAN', 'mode':'None', 'description': 'None' },\n",
        " { 'name': 'has_Age_related_macular_degeneration', 'type': 'BOOLEAN', 'mode':'None', 'description': 'None' },\n",
        " { 'name': 'has_Sensorineural_hearing_loss_or_congenital_deafness', 'type': 'BOOLEAN', 'mode':'None', 'description': 'None' },\n",
        " { 'name': 'has_Hyperhidrosis_excessive_sweating', 'type': 'BOOLEAN', 'mode':'None', 'description': 'None' },\n",
        " { 'name': 'has_Fissured_tongue', 'type': 'BOOLEAN', 'mode':'None', 'description': 'None' },\n",
        " { 'name': 'has_Nasal_polyps', 'type': 'BOOLEAN', 'mode':'None', 'description': 'None' },\n",
        " { 'name': 'has_Chronic_sinusitis', 'type': 'BOOLEAN', 'mode':'None', 'description': 'None' },\n",
        " { 'name': 'has_Bunions', 'type': 'BOOLEAN', 'mode':'None', 'description': 'None' },\n",
        " { 'name': 'has_Osteoporosis', 'type': 'BOOLEAN', 'mode':'None', 'description': 'None' },\n",
        " { 'name': 'has_Strabismus', 'type': 'BOOLEAN', 'mode':'None', 'description': 'None' },\n",
        " { 'name': 'has_Amyotrophic_lateral_sclerosis_ALS', 'type': 'BOOLEAN', 'mode':'None', 'description': 'None' },\n",
        " { 'name': 'has_Frozen_shoulder', 'type': 'BOOLEAN', 'mode':'None', 'description': 'None' },\n",
        " { 'name': 'has_Single_transverse_palmar_crease_simian_crease', 'type': 'BOOLEAN', 'mode':'None', 'description': 'None' },\n",
        " { 'name': 'has_Dermatographia', 'type': 'BOOLEAN', 'mode':'None', 'description': 'None' },\n",
        " { 'name': 'has_Rotator_cuff_tear', 'type': 'BOOLEAN', 'mode':'None', 'description': 'None' },\n",
        " { 'name': 'has_Lipoma', 'type': 'BOOLEAN', 'mode':'None', 'description': 'None' },\n",
        " { 'name': 'has_Polycystic_ovary_syndrome_PCOS', 'type': 'BOOLEAN', 'mode':'None', 'description': 'None' },\n",
        " { 'name': 'has_Hereditary_motor_and_sensory_neuropathy_includes_Charcot_Marie_Tooth_disease_and_HNPP', 'type': 'BOOLEAN', 'mode':'None', 'description': 'None' },\n",
        " { 'name': 'has_Varicose_veins', 'type': 'BOOLEAN', 'mode':'None', 'description': 'None' },\n",
        " { 'name': 'has_Retinal_detachment', 'type': 'BOOLEAN', 'mode':'None', 'description': 'None' },\n",
        " { 'name': 'has_Prostate_cancer', 'type': 'BOOLEAN', 'mode':'None', 'description': 'None' },\n",
        " { 'name': 'has_Spermatocele', 'type': 'BOOLEAN', 'mode':'None', 'description': 'None' },\n",
        " { 'name': 'has_Varicocele', 'type': 'BOOLEAN', 'mode':'None', 'description': 'None' },\n",
        " { 'name': 'has_Essential_tremor', 'type': 'BOOLEAN', 'mode':'None', 'description': 'None' },\n",
        " { 'name': 'has_Hereditary_thrombophilia_includes_Factor_V_Leiden_and_Prothrombin_G20210A', 'type': 'BOOLEAN', 'mode':'None', 'description': 'None' },\n",
        " { 'name': 'has_Breast_cancer', 'type': 'BOOLEAN', 'mode':'None', 'description': 'None' },\n",
        " { 'name': 'has_Celiac_disease', 'type': 'BOOLEAN', 'mode':'None', 'description': 'None' },\n",
        " { 'name': 'has_Multiple_sclerosis_MS', 'type': 'BOOLEAN', 'mode':'None', 'description': 'None' },\n",
        " { 'name': 'has_Migraine_without_aura', 'type': 'BOOLEAN', 'mode':'None', 'description': 'None' },\n",
        " { 'name': 'has_Ehlers_Danlos_syndrome', 'type': 'BOOLEAN', 'mode':'None', 'description': 'None' },\n",
        " { 'name': 'has_Bartholin_s_cyst', 'type': 'BOOLEAN', 'mode':'None', 'description': 'None' },\n",
        " { 'name': 'has_Tennis_elbow', 'type': 'BOOLEAN', 'mode':'None', 'description': 'None' },\n",
        " { 'name': 'has_Angina', 'type': 'BOOLEAN', 'mode':'None', 'description': 'None' },\n",
        " { 'name': 'has_Atrial_fibrillation', 'type': 'BOOLEAN', 'mode':'None', 'description': 'None' },\n",
        " { 'name': 'has_Idiopathic_thrombocytopenic_purpura_ITP', 'type': 'BOOLEAN', 'mode':'None', 'description': 'None' },\n",
        " { 'name': 'has_Heart_block', 'type': 'BOOLEAN', 'mode':'None', 'description': 'None' },\n",
        " { 'name': 'has_Pilonidal_cyst', 'type': 'BOOLEAN', 'mode':'None', 'description': 'None' },\n",
        " { 'name': 'has_Psoriasis', 'type': 'BOOLEAN', 'mode':'None', 'description': 'None' },\n",
        " { 'name': 'has_Bundle_branch_block', 'type': 'BOOLEAN', 'mode':'None', 'description': 'None' },\n",
        " { 'name': 'has_Chondromalacia_patella_CMP', 'type': 'BOOLEAN', 'mode':'None', 'description': 'None' },\n",
        " { 'name': 'has_Rectal_prolapse', 'type': 'BOOLEAN', 'mode':'None', 'description': 'None' },\n",
        " { 'name': 'has_Raynaud_s_phenomenon', 'type': 'BOOLEAN', 'mode':'None', 'description': 'None' },\n",
        " { 'name': 'has_Dry_eye_syndrome', 'type': 'BOOLEAN', 'mode':'None', 'description': 'None' },\n",
        " { 'name': 'has_Other_thrombophilia_includes_antiphospholipid_syndrome', 'type': 'BOOLEAN', 'mode':'None', 'description': 'None' },\n",
        " { 'name': 'has_Tongue_tie_ankyloglossia', 'type': 'BOOLEAN', 'mode':'None', 'description': 'None' },\n",
        " { 'name': 'has_Marfan_syndrome', 'type': 'BOOLEAN', 'mode':'None', 'description': 'None' },\n",
        " { 'name': 'has_Color_blindness', 'type': 'BOOLEAN', 'mode':'None', 'description': 'None' },\n",
        " { 'name': 'has_Breast_fibroadenoma', 'type': 'BOOLEAN', 'mode':'None', 'description': 'None' },\n",
        " { 'name': 'has_Crohn_s_disease', 'type': 'BOOLEAN', 'mode':'None', 'description': 'None' },\n",
        " { 'name': 'has_Thyroid_cancer', 'type': 'BOOLEAN', 'mode':'None', 'description': 'None' },\n",
        " { 'name': 'has_Non_Hodgkin_lymphoma', 'type': 'BOOLEAN', 'mode':'None', 'description': 'None' },\n",
        " { 'name': 'has_Female_infertility', 'type': 'BOOLEAN', 'mode':'None', 'description': 'None' },\n",
        " { 'name': 'has_Sjogren_s_syndrome_Sicca_syndrome', 'type': 'BOOLEAN', 'mode':'None', 'description': 'None' },\n",
        " { 'name': 'has_Benign_prostatic_hypertrophy_BPH', 'type': 'BOOLEAN', 'mode':'None', 'description': 'None' },\n",
        " { 'name': 'has_Osgood_Schlatter_disease', 'type': 'BOOLEAN', 'mode':'None', 'description': 'None' },\n",
        " { 'name': 'has_Postural_kyphosis', 'type': 'BOOLEAN', 'mode':'None', 'description': 'None' },\n",
        " { 'name': 'has_Parkinson_s_disease', 'type': 'BOOLEAN', 'mode':'None', 'description': 'None' },\n",
        " { 'name': 'has_Narcolepsy', 'type': 'BOOLEAN', 'mode':'None', 'description': 'None' },\n",
        " { 'name': 'has_Pernicious_anemia_a_k_a_Addison_Biermer_anemia', 'type': 'BOOLEAN', 'mode':'None', 'description': 'None' },\n",
        " { 'name': 'has_Trigeminal_neuralgia', 'type': 'BOOLEAN', 'mode':'None', 'description': 'None' },\n",
        " { 'name': 'has_Non_Celiac_Gluten_Sensitivity', 'type': 'BOOLEAN', 'mode':'None', 'description': 'None' },\n",
        " { 'name': 'has_Gout', 'type': 'BOOLEAN', 'mode':'None', 'description': 'None' },\n",
        " { 'name': 'has_Deep_vein_thrombosis_DVT', 'type': 'BOOLEAN', 'mode':'None', 'description': 'None' },\n",
        " { 'name': 'has_Hereditary_hemorrhagic_telangiectasia_also_known_as_Osler_Weber_Rendu_syndrome', 'type': 'BOOLEAN', 'mode':'None', 'description': 'None' },\n",
        " { 'name': 'has_Ulcerative_colitis', 'type': 'BOOLEAN', 'mode':'None', 'description': 'None' },\n",
        " { 'name': 'has_Polydactyly', 'type': 'BOOLEAN', 'mode':'None', 'description': 'None' },\n",
        " { 'name': 'has_Uterine_prolapse', 'type': 'BOOLEAN', 'mode':'None', 'description': 'None' },\n",
        " { 'name': 'has_Gilbert_syndrome', 'type': 'BOOLEAN', 'mode':'None', 'description': 'None' },\n",
        " { 'name': 'has_Spina_bifida', 'type': 'BOOLEAN', 'mode':'None', 'description': 'None' },\n",
        " { 'name': 'has_Long_QT_Syndrome', 'type': 'BOOLEAN', 'mode':'None', 'description': 'None' },\n",
        " { 'name': 'has_type_1', 'type': 'BOOLEAN', 'mode':'None', 'description': 'None' },\n",
        " { 'name': 'has_Myocardial_infarction_heart_attack', 'type': 'BOOLEAN', 'mode':'None', 'description': 'None' },\n",
        " { 'name': 'has_Congestive_heart_failure', 'type': 'BOOLEAN', 'mode':'None', 'description': 'None' },\n",
        " { 'name': 'has_Glaucoma', 'type': 'BOOLEAN', 'mode':'None', 'description': 'None' },\n",
        " { 'name': 'has_Chronic_tension_headaches_15_days_per_month', 'type': 'BOOLEAN', 'mode':'None', 'description': 'None' },\n",
        " { 'name': 'has_at_least_6_months', 'type': 'BOOLEAN', 'mode':'None', 'description': 'None' },\n",
        " { 'name': 'has_Barrett_s_esophagus', 'type': 'BOOLEAN', 'mode':'None', 'description': 'None' },\n",
        " { 'name': 'has_Peyronie_s_disease', 'type': 'BOOLEAN', 'mode':'None', 'description': 'None' },\n",
        " { 'name': 'has_Diabetic_retinopathy', 'type': 'BOOLEAN', 'mode':'None', 'description': 'None' },\n",
        " { 'name': 'has_Lung_cancer', 'type': 'BOOLEAN', 'mode':'None', 'description': 'None' },\n",
        " { 'name': 'has_Acute_liver_failure', 'type': 'BOOLEAN', 'mode':'None', 'description': 'None' },\n",
        " { 'name': 'has_Sick_sinus_syndrome_includes_tachy_brady_syndrome', 'type': 'BOOLEAN', 'mode':'None', 'description': 'None' },\n",
        " { 'name': 'has_Traumatic_cataract', 'type': 'BOOLEAN', 'mode':'None', 'description': 'None' },\n",
        " { 'name': 'has_Hypospadias', 'type': 'BOOLEAN', 'mode':'None', 'description': 'None' },\n",
        " { 'name': 'has_Stomach_cancer', 'type': 'BOOLEAN', 'mode':'None', 'description': 'None' },\n",
        " { 'name': 'has_Colon_cancer', 'type': 'BOOLEAN', 'mode':'None', 'description': 'None' },\n",
        " { 'name': 'has_Rectal_cancer', 'type': 'BOOLEAN', 'mode':'None', 'description': 'None' },\n",
        " { 'name': 'has_Pancreatic_cancer', 'type': 'BOOLEAN', 'mode':'None', 'description': 'None' },\n",
        " { 'name': 'has_Endometrial_cancer', 'type': 'BOOLEAN', 'mode':'None', 'description': 'None' },\n",
        " { 'name': 'has_Ovarian_cancer', 'type': 'BOOLEAN', 'mode':'None', 'description': 'None' },\n",
        " { 'name': 'has_Bladder_cancer', 'type': 'BOOLEAN', 'mode':'None', 'description': 'None' },\n",
        " { 'name': 'has_Kidney_cancer', 'type': 'BOOLEAN', 'mode':'None', 'description': 'None' },\n",
        " { 'name': 'has_Leukemia', 'type': 'BOOLEAN', 'mode':'None', 'description': 'None' },\n",
        " { 'name': 'has_Polycythemia_vera', 'type': 'BOOLEAN', 'mode':'None', 'description': 'None' },\n",
        " { 'name': 'has_Essential_thrombocythemia', 'type': 'BOOLEAN', 'mode':'None', 'description': 'None' },\n",
        " { 'name': 'has_Neurofibromatosis', 'type': 'BOOLEAN', 'mode':'None', 'description': 'None' },\n",
        " { 'name': 'has_Brain_cancer', 'type': 'BOOLEAN', 'mode':'None', 'description': 'None' },\n",
        " { 'name': 'has_Wolff_Parkinson_White_WPW_Syndrome', 'type': 'BOOLEAN', 'mode':'None', 'description': 'None' },\n",
        " { 'name': 'has_Cleft_palate', 'type': 'BOOLEAN', 'mode':'None', 'description': 'None' },\n",
        " { 'name': 'has_Recurrent_sleep_paralysis', 'type': 'BOOLEAN', 'mode':'None', 'description': 'None' },\n",
        " { 'name': 'has_Folate_deficiency_anemia', 'type': 'BOOLEAN', 'mode':'None', 'description': 'None' },\n",
        " { 'name': 'has_Syndactyly_webbing_of_digits', 'type': 'BOOLEAN', 'mode':'None', 'description': 'None' },\n",
        " { 'name': 'has_Alopecia_areata', 'type': 'BOOLEAN', 'mode':'None', 'description': 'None' },\n",
        " { 'name': 'has_Scheuermann_s_kyphosis', 'type': 'BOOLEAN', 'mode':'None', 'description': 'None' },\n",
        " { 'name': 'has_Bell_s_palsy', 'type': 'BOOLEAN', 'mode':'None', 'description': 'None' },\n",
        " { 'name': 'has_Growth_hormone_deficiency', 'type': 'BOOLEAN', 'mode':'None', 'description': 'None' },\n",
        " { 'name': 'has_Pulmonary_embolism', 'type': 'BOOLEAN', 'mode':'None', 'description': 'None' },\n",
        " { 'name': 'has_Other_cardiomyopathy_including_ARVD', 'type': 'BOOLEAN', 'mode':'None', 'description': 'None' },\n",
        " { 'name': 'has_Von_Willebrand_disease', 'type': 'BOOLEAN', 'mode':'None', 'description': 'None' },\n",
        " { 'name': 'has_Polycystic_kidney_disease', 'type': 'BOOLEAN', 'mode':'None', 'description': 'None' },\n",
        " { 'name': 'has_Stroke', 'type': 'BOOLEAN', 'mode':'None', 'description': 'None' },\n",
        " { 'name': 'has_Acute_kidney_failure', 'type': 'BOOLEAN', 'mode':'None', 'description': 'None' },\n",
        " { 'name': 'has_Otosclerosis', 'type': 'BOOLEAN', 'mode':'None', 'description': 'None' },\n",
        " { 'name': 'has_Lupus', 'type': 'BOOLEAN', 'mode':'None', 'description': 'None' },\n",
        " { 'name': 'has_Arnold_Chiari_malformation', 'type': 'BOOLEAN', 'mode':'None', 'description': 'None' },\n",
        " { 'name': 'has_Congenital_nystagmus', 'type': 'BOOLEAN', 'mode':'None', 'description': 'None' },\n",
        " { 'name': 'has_Emphysema', 'type': 'BOOLEAN', 'mode':'None', 'description': 'None' },\n",
        " { 'name': 'has_Chronic_Obstructive_Pulmonary_Disease_COPD', 'type': 'BOOLEAN', 'mode':'None', 'description': 'None' },\n",
        " { 'name': 'has_Congenital_clubfoot_equinovarus', 'type': 'BOOLEAN', 'mode':'None', 'description': 'None' },\n",
        " { 'name': 'has_Alpha_1_antitrypsin_deficiency', 'type': 'BOOLEAN', 'mode':'None', 'description': 'None' },\n",
        " { 'name': 'has_Sickle_cell_trait_carrier', 'type': 'BOOLEAN', 'mode':'None', 'description': 'None' },\n",
        " { 'name': 'has_Infantile', 'type': 'BOOLEAN', 'mode':'None', 'description': 'None' },\n",
        " { 'name': 'has_juvenile', 'type': 'BOOLEAN', 'mode':'None', 'description': 'None' },\n",
        " { 'name': 'has_and_presenile_cataract', 'type': 'BOOLEAN', 'mode':'None', 'description': 'None' },\n",
        " { 'name': 'has_Huntington_s_disease', 'type': 'BOOLEAN', 'mode':'None', 'description': 'None' },\n",
        " { 'name': 'has_Porphyria', 'type': 'BOOLEAN', 'mode':'None', 'description': 'None' },\n",
        " { 'name': 'has_Hidradenitis_suppurativa', 'type': 'BOOLEAN', 'mode':'None', 'description': 'None' },\n",
        " { 'name': 'has_Aortic_aneurysm', 'type': 'BOOLEAN', 'mode':'None', 'description': 'None' },\n",
        " { 'name': 'has_Dilated_cardiomyopathy', 'type': 'BOOLEAN', 'mode':'None', 'description': 'None' },\n",
        " { 'name': 'has_Urethral_diverticulum', 'type': 'BOOLEAN', 'mode':'None', 'description': 'None' },\n",
        " { 'name': 'has_Diverticulitis_Urinary_Tract', 'type': 'BOOLEAN', 'mode':'None', 'description': 'None' },\n",
        " { 'name': 'has_Hypertrophic_cardiomyopathy', 'type': 'BOOLEAN', 'mode':'None', 'description': 'None' },\n",
        " { 'name': 'has_Keratoconus', 'type': 'BOOLEAN', 'mode':'None', 'description': 'None' },\n",
        " { 'name': 'has_Central_serous_retinopathy', 'type': 'BOOLEAN', 'mode':'None', 'description': 'None' },\n",
        " { 'name': 'has_Developmental_dysplasia_of_the_hip', 'type': 'BOOLEAN', 'mode':'None', 'description': 'None' },\n",
        " { 'name': 'has_Retinitis_pigmentosa', 'type': 'BOOLEAN', 'mode':'None', 'description': 'None' },\n",
        " { 'name': 'has_Cleft_uvula', 'type': 'BOOLEAN', 'mode':'None', 'description': 'None' },\n",
        " { 'name': 'has_Muscular_dystrophy', 'type': 'BOOLEAN', 'mode':'None', 'description': 'None' },\n",
        " { 'name': 'has_Congenital_ichthyosis', 'type': 'BOOLEAN', 'mode':'None', 'description': 'None' },\n",
        " { 'name': 'has_Autoimmune_hemolytic_anemia', 'type': 'BOOLEAN', 'mode':'None', 'description': 'None' },\n",
        " { 'name': 'has_Infantile_pyloric_stenosis', 'type': 'BOOLEAN', 'mode':'None', 'description': 'None' },\n",
        " { 'name': 'has_Hypertensive_retinopathy', 'type': 'BOOLEAN', 'mode':'None', 'description': 'None' },\n",
        " { 'name': 'has_G6PD_deficiency', 'type': 'BOOLEAN', 'mode':'None', 'description': 'None' },\n",
        " { 'name': 'has_Other_aneurysm', 'type': 'BOOLEAN', 'mode':'None', 'description': 'None' },\n",
        " { 'name': 'has_Congenital_hydronephrosis', 'type': 'BOOLEAN', 'mode':'None', 'description': 'None' }]"
       ]
      }
     ],
     "prompt_number": 31
    },
    {
     "cell_type": "markdown",
     "metadata": {},
     "source": [
      "Let's look at a few rows from the table for a few phenotype attributes of interest."
     ]
    },
    {
     "cell_type": "code",
     "collapsed": false,
     "input": [
      "phenotypes.sample(fields=['Participant',\n",
      "                          'Sex_Gender',\n",
      "                          'Year_of_birth',\n",
      "                          'Maternal_grandmother_Country_of_origin',\n",
      "                          'Maternal_grandfather_Country_of_origin'])"
     ],
     "language": "python",
     "metadata": {},
     "outputs": [
      {
       "html": [
        "\n",
        "    <div class=\"bqtv\" id=\"bqtv_144175824330\"></div>\n",
        "    <div><br />job_25lBgyV5NVcQYGTFfO7e0CQSn8k<br />rows: 5</div>\n",
        "    <script>\n",
        "      require(['extensions/charting', 'element!bqtv_144175824330', 'style!/static/extensions/charting.css'],\n",
        "        function(charts, dom) {\n",
        "          charts.render(dom,\n",
        "            {\n",
        "              chartStyle:\"table\",\n",
        "              dataName:\"bioc-2015:_56bbb64135c31e7a5300b18842d7c5d95e24cb69.anon8b32b9b91c014b67a26b22cca1a61c3ead2f01dd\",\n",
        "              fields:\"Participant,Sex_Gender,Year_of_birth,Maternal_grandmother_Country_of_origin,Maternal_grandfather_Country_of_origin\",\n",
        "              totalRows:5,\n",
        "              rowsPerPage:25,\n",
        "            }, {}, {\"rows\": [{\"c\": [{\"v\": \"huBFBBD8\"}, {\"v\": \"Male\"}, {\"v\": \"1973\"}, {\"v\": \"United States\"}, {\"v\": \"United States\"}]}, {\"c\": [{\"v\": \"hu5880D9\"}, {\"v\": \"Female\"}, {\"v\": \"1986\"}, {\"v\": \"United States\"}, {\"v\": \"United States\"}]}, {\"c\": [{\"v\": \"hu9367D1\"}, {\"v\": \"Male\"}, {\"v\": \"1987\"}, {\"v\": \"Poland\"}, {\"v\": \"Austria\"}]}, {\"c\": [{\"v\": \"hu57850F\"}, {\"v\": \"Female\"}, {\"v\": \"1960\"}, {\"v\": \"United States\"}, {\"v\": \"United States\"}]}, {\"c\": [{\"v\": \"hu1069B0\"}, {\"v\": \"Female\"}, {\"v\": null}, {\"v\": \"China\"}, {\"v\": \"China\"}]}], \"cols\": [{\"type\": \"string\", \"id\": \"Participant\", \"label\": \"Participant\"}, {\"type\": \"string\", \"id\": \"Sex_Gender\", \"label\": \"Sex_Gender\"}, {\"type\": \"string\", \"id\": \"Year_of_birth\", \"label\": \"Year_of_birth\"}, {\"type\": \"string\", \"id\": \"Maternal_grandmother_Country_of_origin\", \"label\": \"Maternal_grandmother_Country_of_origin\"}, {\"type\": \"string\", \"id\": \"Maternal_grandfather_Country_of_origin\", \"label\": \"Maternal_grandfather_Country_of_origin\"}]});\n",
        "        }\n",
        "      );\n",
        "    </script>\n",
        "  "
       ],
       "metadata": {},
       "output_type": "pyout",
       "prompt_number": 32,
       "text": []
      }
     ],
     "prompt_number": 32
    },
    {
     "cell_type": "heading",
     "level": 2,
     "metadata": {},
     "source": [
      "Querying"
     ]
    },
    {
     "cell_type": "markdown",
     "metadata": {},
     "source": [
      "Let's dig further into the phenotypes table and get some statistics on the occurrence of asthma among the participants present within the dataset. The `%%bq_sql` statement allows us to write SQL within our notebook and execute it within BigQuery."
     ]
    },
    {
     "cell_type": "code",
     "collapsed": false,
     "input": [
      "%%sql --name asthma\n",
      "SELECT Participant,\n",
      "       IFNULL(Sex_Gender, 'Unknown') AS gender,\n",
      "       IF(has_Asthma IS NULL, 0, 1) AS has_asthma\n",
      "FROM $phenotypes"
     ],
     "language": "python",
     "metadata": {},
     "outputs": [],
     "prompt_number": 33
    },
    {
     "cell_type": "markdown",
     "metadata": {},
     "source": [
      "Our query is now stored in a variable called `asthma`. We can execute the query (by sending to BigQuery) by calling `asthma.results()`.  Additionally, let's convert the results to a [Pandas dataframe](http://pandas.pydata.org/pandas-docs/dev/generated/pandas.DataFrame.html) and display just the first 5 rows from the results."
     ]
    },
    {
     "cell_type": "code",
     "collapsed": false,
     "input": [
      "bq.query(asthma, {'phenotypes': phenotypes}).to_dataframe()[:5]"
     ],
     "language": "python",
     "metadata": {},
     "outputs": [
      {
       "html": [
        "<div style=\"max-width:1500px;overflow:auto;\">\n",
        "<table border=\"1\" class=\"dataframe\">\n",
        "  <thead>\n",
        "    <tr style=\"text-align: right;\">\n",
        "      <th></th>\n",
        "      <th>Participant</th>\n",
        "      <th>gender</th>\n",
        "      <th>has_asthma</th>\n",
        "    </tr>\n",
        "  </thead>\n",
        "  <tbody>\n",
        "    <tr>\n",
        "      <th>0</th>\n",
        "      <td>huBFBBD8</td>\n",
        "      <td>Male</td>\n",
        "      <td>0</td>\n",
        "    </tr>\n",
        "    <tr>\n",
        "      <th>1</th>\n",
        "      <td>hu5880D9</td>\n",
        "      <td>Female</td>\n",
        "      <td>0</td>\n",
        "    </tr>\n",
        "    <tr>\n",
        "      <th>2</th>\n",
        "      <td>hu9367D1</td>\n",
        "      <td>Male</td>\n",
        "      <td>0</td>\n",
        "    </tr>\n",
        "    <tr>\n",
        "      <th>3</th>\n",
        "      <td>hu57850F</td>\n",
        "      <td>Female</td>\n",
        "      <td>0</td>\n",
        "    </tr>\n",
        "    <tr>\n",
        "      <th>4</th>\n",
        "      <td>hu1069B0</td>\n",
        "      <td>Female</td>\n",
        "      <td>0</td>\n",
        "    </tr>\n",
        "  </tbody>\n",
        "</table>\n",
        "</div>"
       ],
       "metadata": {},
       "output_type": "pyout",
       "prompt_number": 34,
       "text": [
        "  Participant  gender  has_asthma\n",
        "0    huBFBBD8    Male           0\n",
        "1    hu5880D9  Female           0\n",
        "2    hu9367D1    Male           0\n",
        "3    hu57850F  Female           0\n",
        "4    hu1069B0  Female           0"
       ]
      }
     ],
     "prompt_number": 34
    },
    {
     "cell_type": "heading",
     "level": 3,
     "metadata": {},
     "source": [
      "Composing Queries"
     ]
    },
    {
     "cell_type": "markdown",
     "metadata": {},
     "source": [
      "Now that we've seen the structure of the rows generated by our `$asthma` query, let's summarize the results by computing the percentage of the overall dataset having asthma. We can accomplish this by nesting our previous query within an outer `SELECT` statement. The `%%sql` statement allows us to embed our previous `$asthma` query like so:"
     ]
    },
    {
     "cell_type": "code",
     "collapsed": false,
     "input": [
      "%%sql\n",
      "SELECT ROUND(AVG(has_asthma) * 100, 2) AS percent_has_asthma FROM $asthma"
     ],
     "language": "python",
     "metadata": {},
     "outputs": [
      {
       "html": [
        "\n",
        "    <div class=\"bqtv\" id=\"bqtv_144175824331\"></div>\n",
        "    <div><br />job_3x2yfpiJcJI655krY397po6hNrg<br />rows: 1</div>\n",
        "    <script>\n",
        "      require(['extensions/charting', 'element!bqtv_144175824331', 'style!/static/extensions/charting.css'],\n",
        "        function(charts, dom) {\n",
        "          charts.render(dom,\n",
        "            {\n",
        "              chartStyle:\"table\",\n",
        "              dataName:\"bioc-2015:_56bbb64135c31e7a5300b18842d7c5d95e24cb69.anon0d4fdcc9d308847ffe6cb8967db5585c2b5dd920\",\n",
        "              fields:\"percent_has_asthma\",\n",
        "              totalRows:1,\n",
        "              rowsPerPage:25,\n",
        "            }, {}, {\"rows\": [{\"c\": [{\"v\": 9.1}]}], \"cols\": [{\"type\": \"number\", \"id\": \"percent_has_asthma\", \"label\": \"percent_has_asthma\"}]});\n",
        "        }\n",
        "      );\n",
        "    </script>\n",
        "  "
       ],
       "metadata": {},
       "output_type": "pyout",
       "prompt_number": 35,
       "text": []
      }
     ],
     "prompt_number": 35
    },
    {
     "cell_type": "markdown",
     "metadata": {},
     "source": [
      "Notice the reference to the previous query we defined via the `$asthma` placeholder. The resulting query is a nested SQL statement.  This is handy because we can build up our large, complex query one piece at a time and validate that the intermediate results we're getting along the way.\n",
      "\n",
      "Let's further refine our `$asthma` query and compute the average occurrence broken down by gender this time."
     ]
    },
    {
     "cell_type": "code",
     "collapsed": false,
     "input": [
      "%%sql\n",
      "SELECT gender,\n",
      "       ROUND(AVG(has_asthma) * 100, 2) AS percent_has_asthma\n",
      "FROM $asthma\n",
      "GROUP BY gender"
     ],
     "language": "python",
     "metadata": {},
     "outputs": [
      {
       "html": [
        "\n",
        "    <div class=\"bqtv\" id=\"bqtv_144175824332\"></div>\n",
        "    <div><br />job_0iVeXDd4Spd-WdKFEEQP90HkikQ<br />rows: 4</div>\n",
        "    <script>\n",
        "      require(['extensions/charting', 'element!bqtv_144175824332', 'style!/static/extensions/charting.css'],\n",
        "        function(charts, dom) {\n",
        "          charts.render(dom,\n",
        "            {\n",
        "              chartStyle:\"table\",\n",
        "              dataName:\"bioc-2015:_56bbb64135c31e7a5300b18842d7c5d95e24cb69.anonc0dbb059f1c94597ef408ef7b7e81a4b29a68a93\",\n",
        "              fields:\"gender,percent_has_asthma\",\n",
        "              totalRows:4,\n",
        "              rowsPerPage:25,\n",
        "            }, {}, {\"rows\": [{\"c\": [{\"v\": \"Male\"}, {\"v\": 6.8}]}, {\"c\": [{\"v\": \"Female\"}, {\"v\": 12.03}]}, {\"c\": [{\"v\": \"Transmasculine \"}, {\"v\": 0.0}]}, {\"c\": [{\"v\": \"Unknown\"}, {\"v\": 13.92}]}], \"cols\": [{\"type\": \"string\", \"id\": \"gender\", \"label\": \"gender\"}, {\"type\": \"number\", \"id\": \"percent_has_asthma\", \"label\": \"percent_has_asthma\"}]});\n",
        "        }\n",
        "      );\n",
        "    </script>\n",
        "  "
       ],
       "metadata": {},
       "output_type": "pyout",
       "prompt_number": 36,
       "text": []
      }
     ],
     "prompt_number": 36
    },
    {
     "cell_type": "markdown",
     "metadata": {},
     "source": [
      "Looks like there are roughly twice as many female (versus male) genomes with the asthma phenotype in this dataset."
     ]
    },
    {
     "cell_type": "heading",
     "level": 3,
     "metadata": {},
     "source": [
      "Python Pandas Integration"
     ]
    },
    {
     "cell_type": "markdown",
     "metadata": {},
     "source": [
      "Since our `$asthma` query returns a result set that is small enough to easily fit into memory (at ~2k rows), let's create a local dataset from our query by populating a [Pandas dataframe](http://pandas.pydata.org/pandas-docs/dev/generated/pandas.DataFrame.html) object and saving it to the `df` variable."
     ]
    },
    {
     "cell_type": "code",
     "collapsed": false,
     "input": [
      "df = bq.query(asthma, {'phenotypes': phenotypes}).to_dataframe()"
     ],
     "language": "python",
     "metadata": {},
     "outputs": [],
     "prompt_number": 37
    },
    {
     "cell_type": "markdown",
     "metadata": {},
     "source": [
      "This dataframe allows us to slice and dice our data in a number of ways and all of the computation will happen locally. Let's try getting the number of genomes per gender via our dataframe."
     ]
    },
    {
     "cell_type": "code",
     "collapsed": false,
     "input": [
      "df.groupby('gender').sum()"
     ],
     "language": "python",
     "metadata": {},
     "outputs": [
      {
       "html": [
        "<div style=\"max-width:1500px;overflow:auto;\">\n",
        "<table border=\"1\" class=\"dataframe\">\n",
        "  <thead>\n",
        "    <tr style=\"text-align: right;\">\n",
        "      <th></th>\n",
        "      <th>has_asthma</th>\n",
        "    </tr>\n",
        "    <tr>\n",
        "      <th>gender</th>\n",
        "      <th></th>\n",
        "    </tr>\n",
        "  </thead>\n",
        "  <tbody>\n",
        "    <tr>\n",
        "      <th>Female</th>\n",
        "      <td>103</td>\n",
        "    </tr>\n",
        "    <tr>\n",
        "      <th>Male</th>\n",
        "      <td>85</td>\n",
        "    </tr>\n",
        "    <tr>\n",
        "      <th>Transmasculine</th>\n",
        "      <td>0</td>\n",
        "    </tr>\n",
        "    <tr>\n",
        "      <th>Unknown</th>\n",
        "      <td>11</td>\n",
        "    </tr>\n",
        "  </tbody>\n",
        "</table>\n",
        "</div>"
       ],
       "metadata": {},
       "output_type": "pyout",
       "prompt_number": 38,
       "text": [
        "                 has_asthma\n",
        "gender                     \n",
        "Female                  103\n",
        "Male                     85\n",
        "Transmasculine            0\n",
        "Unknown                  11"
       ]
      }
     ],
     "prompt_number": 38
    },
    {
     "cell_type": "markdown",
     "metadata": {},
     "source": [
      "So that shows us the total number of participants annotated to have asthma, broken down by gender. Let's see if we can reproduce the percent_has_asthma column that we computed above via BigQuery."
     ]
    },
    {
     "cell_type": "code",
     "collapsed": false,
     "input": [
      "df.groupby('gender').mean() * 100"
     ],
     "language": "python",
     "metadata": {},
     "outputs": [
      {
       "html": [
        "<div style=\"max-width:1500px;overflow:auto;\">\n",
        "<table border=\"1\" class=\"dataframe\">\n",
        "  <thead>\n",
        "    <tr style=\"text-align: right;\">\n",
        "      <th></th>\n",
        "      <th>has_asthma</th>\n",
        "    </tr>\n",
        "    <tr>\n",
        "      <th>gender</th>\n",
        "      <th></th>\n",
        "    </tr>\n",
        "  </thead>\n",
        "  <tbody>\n",
        "    <tr>\n",
        "      <th>Female</th>\n",
        "      <td>12.032710</td>\n",
        "    </tr>\n",
        "    <tr>\n",
        "      <th>Male</th>\n",
        "      <td>6.800000</td>\n",
        "    </tr>\n",
        "    <tr>\n",
        "      <th>Transmasculine</th>\n",
        "      <td>0.000000</td>\n",
        "    </tr>\n",
        "    <tr>\n",
        "      <th>Unknown</th>\n",
        "      <td>13.924051</td>\n",
        "    </tr>\n",
        "  </tbody>\n",
        "</table>\n",
        "</div>"
       ],
       "metadata": {},
       "output_type": "pyout",
       "prompt_number": 39,
       "text": [
        "                 has_asthma\n",
        "gender                     \n",
        "Female            12.032710\n",
        "Male               6.800000\n",
        "Transmasculine     0.000000\n",
        "Unknown           13.924051"
       ]
      }
     ],
     "prompt_number": 39
    },
    {
     "cell_type": "markdown",
     "metadata": {},
     "source": [
      "Great! So for datasets that easily fit into memory, we can easily aggregate our results via the Pandas dataframe using an approach very similar to our SQL statement."
     ]
    },
    {
     "cell_type": "heading",
     "level": 2,
     "metadata": {},
     "source": [
      "Visualization"
     ]
    },
    {
     "cell_type": "markdown",
     "metadata": {},
     "source": [
      "Every Pandas dataframe can be used for visualization by calling the [`dataframe.plot()`](http://pandas.pydata.org/pandas-docs/dev/visualization.html) method.  Let's plot the counts of asthma occurrence broken down by gender."
     ]
    },
    {
     "cell_type": "code",
     "collapsed": false,
     "input": [
      "tally = df.groupby('gender').sum()\n",
      "tally.plot(kind='pie', y='has_asthma', legend=False)"
     ],
     "language": "python",
     "metadata": {},
     "outputs": [
      {
       "metadata": {},
       "output_type": "pyout",
       "prompt_number": 40,
       "text": [
        "<matplotlib.axes._subplots.AxesSubplot at 0x7f254a28c890>"
       ]
      },
      {
       "metadata": {},
       "output_type": "display_data",
       "png": "[encoded data removed]",
       "text": [
        "<matplotlib.figure.Figure at 0x7f254a28ca50>"
       ]
      }
     ],
     "prompt_number": 40
    },
    {
     "cell_type": "code",
     "collapsed": false,
     "input": [
      "tally.plot(kind='bar', y='has_asthma', legend=False)"
     ],
     "language": "python",
     "metadata": {},
     "outputs": [
      {
       "metadata": {},
       "output_type": "pyout",
       "prompt_number": 41,
       "text": [
        "<matplotlib.axes._subplots.AxesSubplot at 0x7f254a3380d0>"
       ]
      },
      {
       "metadata": {},
       "output_type": "display_data",
       "png": "[encoded data removed]",
       "text": [
        "<matplotlib.figure.Figure at 0x7f254a1a8e50>"
       ]
      }
     ],
     "prompt_number": 41
    }
   ],
   "metadata": {}
  }
 ]
}