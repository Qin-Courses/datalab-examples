{
 "metadata": {
  "name": "",
  "signature": "sha256:06c2ccd0f29d81d6ec0d72b3bd8faa3aba6f647940348bc95a5a9197a35f9501"
 },
 "nbformat": 3,
 "nbformat_minor": 0,
 "worksheets": [
  {
   "cells": [
    {
     "cell_type": "heading",
     "level": 1,
     "metadata": {},
     "source": [
      "Population genetics: testing for Hardy-Weinberg Equilibrium"
     ]
    },
    {
     "cell_type": "markdown",
     "metadata": {},
     "source": [
      "This notebook describes how to test if a population is in Hardy-Weinberg Equilibrium (HWE), given a locus with multiple alleles.\n",
      "\n",
      "Related Links:\n",
      "* [HWE for multiple alleles at a single locus](http://www.bio.miami.edu/dana/dox/trinomial.html)\n",
      "* [BigQuery](https://cloud.google.com/bigquery/)\n",
      "* BigQuery [SQL reference](https://cloud.google.com/bigquery/query-reference)\n",
      "* [1,000 Genomes Data Description](http://googlegenomics.readthedocs.org/en/latest/use_cases/discover_public_data/1000_genomes.html)\n",
      "* This notebook is based on the [Google Genomics](https://cloud.google.com/genomics/) BigQuery example [Hardy-Weinberg Equilibrium](https://github.com/googlegenomics/bigquery-examples/blob/master/1000genomes/sql/hardy-weinberg-equilibrium.sql)\n",
      "----"
     ]
    },
    {
     "cell_type": "heading",
     "level": 2,
     "metadata": {},
     "source": [
      "Background"
     ]
    },
    {
     "cell_type": "heading",
     "level": 3,
     "metadata": {},
     "source": [
      "What is the test for Hardy-Weinberg equilibrium?"
     ]
    },
    {
     "cell_type": "markdown",
     "metadata": {},
     "source": [
      "*TODO: define HWE in one-two sentences*\n",
      "\n",
      "Our analysis will have the following steps:\n",
      "  1. Select a set of individuals to represent the population of interest\n",
      "  2. Select a genome locus for comparison across the population\n",
      "  3. Genotype each individual at the selected locus\n",
      "  4. Compute the frequency of each allele within the population\n",
      "  5. Compute the expected genotype frequencies for the population under HWE assumptions\n",
      "  6. Use a $\\chi^2$ test to compare the expected genotype frequencies to the observed genotype frequencies within the population\n",
      "  7. Assess the statistical significance of the $\\chi^2$ test"
     ]
    },
    {
     "cell_type": "heading",
     "level": 3,
     "metadata": {},
     "source": [
      "Testing a single locus for HWE"
     ]
    },
    {
     "cell_type": "markdown",
     "metadata": {},
     "source": [
      "Let's walk through an example of testing a single locus for HWE. For the sake of this example, this single locus will have 3 alleles, but we'll discuss how the example extends to an arbitrary number of alleles.\n"
     ]
    },
    {
     "cell_type": "heading",
     "level": 4,
     "metadata": {},
     "source": [
      "Computing observed genotype and allele frequencies"
     ]
    },
    {
     "cell_type": "markdown",
     "metadata": {},
     "source": [
      "Given three alleles, $A_1$, $A_2$ and $A_3$, we'll first compute the allele frequency of each within our population. To do this, we'll need to tally up the observed genotype frequencies and from them derive the allele frequencies.\n",
      "\n",
      "In this 3-allele example, we have 6 possible genotypes: ($A_1,A_1$), ($A_1,A_2$), ($A_1,A_3$), ($A_2,A_2$), ($A_2,A_3$) and ($A_3,A_3$). *TODO: make this into a table with specific counts for this example*\n",
      "\n",
      "With these observed genotype counts in hand, we can then calculate the frequency of each allele within our sample population. For example, *TODO: show derivation of the allele frequencies from the genotype counts table here*"
     ]
    },
    {
     "cell_type": "heading",
     "level": 4,
     "metadata": {},
     "source": [
      "Computing expected genotype frequencies under HWE assumptions"
     ]
    },
    {
     "cell_type": "markdown",
     "metadata": {},
     "source": [
      "Now that we've derived the allele frequencies for our sample population, we can use them to compute the *expected* genotype frequencies.\n",
      "\n",
      "$(p + q + r)^2 = 1.0$\n",
      "\n",
      "Expanding the multinomial expression gives us:\n",
      "\n",
      "$p^2 + 2pq + q^2 + 2qr + 2pr + r^2 = 1.0$\n",
      "\n",
      "And from each of the terms multinomial expansion we then derive the expected genotype frequencies. For this example, the expected genotype frequencies under HWE would be:\n",
      "*TODO: show expected frequencies derived from allele frequencies as a table here*"
     ]
    },
    {
     "cell_type": "heading",
     "level": 4,
     "metadata": {},
     "source": [
      "Testing for HWE via $\\chi^2$ test"
     ]
    },
    {
     "cell_type": "markdown",
     "metadata": {},
     "source": [
      "Now we can test whether or not our sample population is in HWE with respected to the 3-allele locus via the $\\chi^2$ test.\n",
      "\n",
      "The number of degrees of freedom for the test is given by: \n",
      "```\n",
      "dof = (# genotypes) - (# alleles) = 6 - 3 = 3\n",
      "```\n",
      "\n",
      "*TODO: show the combined table of genotypes (rows) vs observed and expected counts (cols)*\n",
      "\n",
      "The $\\chi^2$ test statistic for this particular example is *TODO*, which is not significant given the critical value of *TODO*.\n",
      "\n",
      "This statistic allows us to conclude that our sample population is indeed in HWE with respect to the selected locus."
     ]
    },
    {
     "cell_type": "heading",
     "level": 2,
     "metadata": {},
     "source": [
      "Genome-scale analysis"
     ]
    },
    {
     "cell_type": "markdown",
     "metadata": {},
     "source": [
      "Now that we have a feel for how to test a given population for HWE at a particular locus, let's scale the analysis to many loci across the genome."
     ]
    },
    {
     "cell_type": "code",
     "collapsed": false,
     "input": [
      "import gcp.bigquery as bq\n",
      "\n",
      "variants_table = bq.table('genomics-public-data:1000_genomes.variants')\n",
      "variants_table.schema"
     ],
     "language": "python",
     "metadata": {},
     "outputs": []
    },
    {
     "cell_type": "markdown",
     "metadata": {},
     "source": [
      "*TODO: Find a locus that actually has 3 or more alleles or change this example to just cover a 2-allele example for now. Or split into two notebooks: 2-alleles vs 3+ alleles since the math for 2-alleles is a bit simpler to convey*"
     ]
    },
    {
     "cell_type": "code",
     "collapsed": false,
     "input": [
      "%%sql --name selection\n",
      "SELECT\n",
      "  reference_name,\n",
      "  start,\n",
      "  end,\n",
      "  reference_bases,\n",
      "  GROUP_CONCAT(alternate_bases) WITHIN RECORD AS alt,\n",
      "  vt,\n",
      "  # Also return the pre-computed allelic frequency to help us check our work\n",
      "  af AS alt_freq_from_1KG,\n",
      "  NTH(1,\n",
      "    call.genotype) WITHIN call AS first_allele,\n",
      "  NTH(2,\n",
      "    call.genotype) WITHIN call AS second_allele,\n",
      "FROM\n",
      "  $variants_table\n",
      "WHERE\n",
      "  reference_name = '17'\n",
      "  AND start BETWEEN 41196311\n",
      "  AND 41277499"
     ],
     "language": "python",
     "metadata": {},
     "outputs": []
    },
    {
     "cell_type": "code",
     "collapsed": false,
     "input": [
      "bq.query(selection, {\"variants_table\":variants_table}).sample()"
     ],
     "language": "python",
     "metadata": {},
     "outputs": []
    },
    {
     "cell_type": "markdown",
     "metadata": {},
     "source": [
      "Now we compute observed genotype frequencies from our sample:"
     ]
    },
    {
     "cell_type": "code",
     "collapsed": false,
     "input": [
      "%%sql --name observed\n",
      "SELECT\n",
      "  reference_name,\n",
      "  start,\n",
      "  end,\n",
      "  reference_bases,\n",
      "  alt,\n",
      "  vt,\n",
      "  alt_freq_from_1KG,\n",
      "  # 1000 genomes data IS bi-allelic so there IS only ever a single alt\n",
      "  # We also exclude calls _where one _or both alleles were NOT called (-1)\n",
      "  SUM((0 = first_allele\n",
      "      OR 1 = first_allele)\n",
      "    AND (0 = second_allele\n",
      "      OR 1 = second_allele)) WITHIN RECORD AS total_count,\n",
      "  SUM(0 = first_allele\n",
      "    AND 0 = second_allele) WITHIN RECORD AS hom_ref_count,\n",
      "  SUM((0 = first_allele\n",
      "      AND 1 = second_allele)\n",
      "    OR (1 = first_allele\n",
      "      AND 0 = second_allele)) WITHIN RECORD AS het_count,\n",
      "  SUM(1 = first_allele\n",
      "    AND 1 = second_allele) WITHIN RECORD AS hom_alt_count,\n",
      "  SUM(0 = first_allele\n",
      "    AND 0 = second_allele) / SUM((0 = first_allele\n",
      "      OR 1 = first_allele)\n",
      "    AND (0 = second_allele\n",
      "      OR 1 = second_allele)) WITHIN RECORD AS hom_ref_freq,\n",
      "  SUM((0 = first_allele\n",
      "      AND 1 = second_allele)\n",
      "    OR (1 = first_allele\n",
      "      AND 0 = second_allele)) / SUM((0 = first_allele\n",
      "      OR 1 = first_allele)\n",
      "    AND (0 = second_allele\n",
      "      OR 1 = second_allele)) WITHIN RECORD AS het_freq,\n",
      "  SUM(1 = first_allele\n",
      "    AND 1 = second_allele) / SUM((0 = first_allele\n",
      "      OR 1 = first_allele)\n",
      "    AND (0 = second_allele\n",
      "      OR 1 = second_allele)) WITHIN RECORD AS hom_alt_freq,\n",
      "FROM $selection"
     ],
     "language": "python",
     "metadata": {},
     "outputs": []
    },
    {
     "cell_type": "code",
     "collapsed": false,
     "input": [
      "bq.query(observed, {\"selection\":selection, \"variants_table\":variants_table}).sample()"
     ],
     "language": "python",
     "metadata": {},
     "outputs": []
    },
    {
     "cell_type": "code",
     "collapsed": false,
     "input": [
      "%%sql --name expected_genotypes\n",
      "SELECT\n",
      "    reference_name,\n",
      "    start,\n",
      "    END,\n",
      "    reference_bases,\n",
      "    alt,\n",
      "    vt,\n",
      "    alt_freq_from_1KG,\n",
      "    hom_ref_freq + (.5 * het_freq) AS hw_ref_freq,\n",
      "    1 - (hom_ref_freq + (.5 * het_freq)) AS alt_freq,\n",
      "    POW(hom_ref_freq + (.5 * het_freq),\n",
      "      2) * total_count AS expected_hom_ref_count,\n",
      "    POW(1 - (hom_ref_freq + (.5 * het_freq)),\n",
      "      2) * total_count AS expected_hom_alt_count,\n",
      "    2 * (hom_ref_freq + (.5 * het_freq))\n",
      "    * (1 - (hom_ref_freq + (.5 * het_freq)))\n",
      "    * total_count AS expected_het_count,\n",
      "    total_count,\n",
      "    hom_ref_count,\n",
      "    het_count,\n",
      "    hom_alt_count,\n",
      "    hom_ref_freq,\n",
      "    het_freq,\n",
      "    hom_alt_freq,\n",
      "FROM $observed"
     ],
     "language": "python",
     "metadata": {},
     "outputs": []
    },
    {
     "cell_type": "code",
     "collapsed": false,
     "input": [
      "bq.query(expected_genotypes, {\"observed\":observed, \"selection\":selection, \"variants_table\":variants_table}).sample()"
     ],
     "language": "python",
     "metadata": {},
     "outputs": []
    },
    {
     "cell_type": "code",
     "collapsed": false,
     "input": [
      "%%sql --name chi_sq_test\n",
      "SELECT\n",
      "  reference_name,\n",
      "  start,\n",
      "  END,\n",
      "  reference_bases,\n",
      "  alt,\n",
      "  vt,\n",
      "  ROUND(POW(hom_ref_count - expected_hom_ref_count,\n",
      "      2)/expected_hom_ref_count +\n",
      "    POW(hom_alt_count - expected_hom_alt_count,\n",
      "      2)/expected_hom_alt_count +\n",
      "    POW(het_count - expected_het_count,\n",
      "      2)/expected_het_count,\n",
      "    3) AS chi_squared_score,\n",
      "  total_count,\n",
      "  hom_ref_count,\n",
      "  ROUND(expected_hom_ref_count,\n",
      "    2) AS expected_hom_ref_count,\n",
      "  het_count,\n",
      "  ROUND(expected_het_count,\n",
      "    2) AS expected_het_count,\n",
      "  hom_alt_count,\n",
      "  ROUND(expected_hom_alt_count,\n",
      "    2) AS expected_hom_alt_count,\n",
      "  ROUND(alt_freq,\n",
      "    4) AS alt_freq,\n",
      "  alt_freq_from_1KG,\n",
      "FROM $expected_genotypes\n",
      "ORDER BY chi_squared_score DESC"
     ],
     "language": "python",
     "metadata": {},
     "outputs": []
    },
    {
     "cell_type": "code",
     "collapsed": false,
     "input": [
      "bq.query(chi_sq_test, {\"expected_genotypes\":expected_genotypes,\n",
      "                       \"observed\":observed,\n",
      "                       \"selection\":selection,\n",
      "                       \"variants_table\":variants_table}).sample()"
     ],
     "language": "python",
     "metadata": {},
     "outputs": []
    }
   ],
   "metadata": {}
  }
 ]
}