{
 "metadata": {
  "name": "",
  "signature": "sha256:822235a41c3b9eaeea97acb8128fa93ab31e65df646689b103725df109009a61"
 },
 "nbformat": 3,
 "nbformat_minor": 0,
 "worksheets": [
  {
   "cells": [
    {
     "cell_type": "heading",
     "level": 1,
     "metadata": {},
     "source": [
      "Navigating read and variant data"
     ]
    },
    {
     "cell_type": "markdown",
     "metadata": {},
     "source": [
      "In this notebook we'll cover how retrieve read and variant data from the [Google Genomics APIs](https://cloud.google.com/genomics/v1beta2/reference/).\n",
      "\n",
      "This notebook is based on the [\"Getting started in python\"](https://github.com/googlegenomics/getting-started/tree/master/python) example."
     ]
    },
    {
     "cell_type": "heading",
     "level": 3,
     "metadata": {},
     "source": [
      "Setup"
     ]
    },
    {
     "cell_type": "markdown",
     "metadata": {},
     "source": [
      "Before we get started, let's make sure we have an API key for making authenticated requests.\n",
      "\n",
      "*TODO(bryantd): figure out a simple auth story for these notebooks and use it consistently throughout each*\n",
      "\n",
      "*TODO(bryantd): cross-link/reference getting started with API notebook here*"
     ]
    },
    {
     "cell_type": "code",
     "collapsed": false,
     "input": [
      "# TODO(bryantd): Come up with a better scheme for users to add their own\n",
      "# API key that avoids saving it in the notebook directly. It would be nice\n",
      "# to have the VM request an API key on startup actually and auto-set this\n",
      "# environment variable so that users never actually see it.\n",
      "\n",
      "API_KEY = os.environ.get('DNA_API_KEY', None)\n",
      "\n",
      "# Make sure that an API key was defined\n",
      "# todo: put instructions here for getting an api key\n",
      "if API_KEY is None:\n",
      "    print 'Missing API key environment variable'"
     ],
     "language": "python",
     "metadata": {},
     "outputs": [],
     "prompt_number": 1
    },
    {
     "cell_type": "markdown",
     "metadata": {},
     "source": [
      "Now let's construct a Genomics API client object for making requests."
     ]
    },
    {
     "cell_type": "code",
     "collapsed": false,
     "input": [
      "from apiclient.discovery import build\n",
      "genomics = build('genomics', 'v1beta2', developerKey=API_KEY)"
     ],
     "language": "python",
     "metadata": {},
     "outputs": [],
     "prompt_number": 2
    },
    {
     "cell_type": "markdown",
     "metadata": {},
     "source": [
      "This `genomics` Python object will make HTTP requests on our behalf to the Genomics API whenever we call the various resource methods.\n",
      "\n",
      "Now we're ready to start fetching Genomics resources."
     ]
    },
    {
     "cell_type": "heading",
     "level": 3,
     "metadata": {},
     "source": [
      "Dataset selection"
     ]
    },
    {
     "cell_type": "markdown",
     "metadata": {},
     "source": [
      "In this notebook, we'll examine a specific sample (NA12872) within the 1000 Genomes dataset. Let's define the set of identifiers we'll need to look up these resources."
     ]
    },
    {
     "cell_type": "code",
     "collapsed": false,
     "input": [
      "dataset_id = '10473108253681171589' # This is the 1000 Genomes dataset ID\n",
      "sample = 'NA12872'\n",
      "reference_name = '22'\n",
      "reference_position = 51003835"
     ],
     "language": "python",
     "metadata": {},
     "outputs": [],
     "prompt_number": 14
    },
    {
     "cell_type": "heading",
     "level": 3,
     "metadata": {},
     "source": [
      "Find read group set ID"
     ]
    },
    {
     "cell_type": "markdown",
     "metadata": {},
     "source": [
      "To begin, we need to lookup the ID of the read group set for our sample of interest. We can use the `search` API of the `readgroupsets` resource to do this. [Full documentation for the read group sets API can be found here](https://cloud.google.com/genomics/v1beta2/reference/readgroupsets).\n",
      "\n",
      "First, we'll create an appropriate search request:"
     ]
    },
    {
     "cell_type": "code",
     "collapsed": false,
     "input": [
      "request = genomics.readgroupsets().search(\n",
      "  # Our search criteria\n",
      "  body={\n",
      "    'datasetIds': [dataset_id],\n",
      "    'name': sample\n",
      "  },\n",
      "  # The Set of fields we'd like returned\n",
      "  fields='readGroupSets(id)')"
     ],
     "language": "python",
     "metadata": {},
     "outputs": [],
     "prompt_number": 15
    },
    {
     "cell_type": "markdown",
     "metadata": {},
     "source": [
      "And now we'll call the `execute()` method of our request, which will send an HTTP request behind the scenes to execute our query against the Genomics API."
     ]
    },
    {
     "cell_type": "code",
     "collapsed": false,
     "input": [
      "response = request.execute()\n",
      "print response"
     ],
     "language": "python",
     "metadata": {},
     "outputs": [
      {
       "output_type": "stream",
       "stream": "stdout",
       "text": [
        "{u'readGroupSets': [{u'id': u'CMvnhpKTFhDu5oWzv-LJtIEB'}]}\n"
       ]
      }
     ],
     "prompt_number": 20
    },
    {
     "cell_type": "markdown",
     "metadata": {},
     "source": [
      "We can now retrieve the ID that we're after from the response object:"
     ]
    },
    {
     "cell_type": "code",
     "collapsed": false,
     "input": [
      "read_group_set_id = response['readGroupSets'][0]['id']\n",
      "print 'Read group set ID for sample %s is \"%s\"' % (sample, read_group_set_id)"
     ],
     "language": "python",
     "metadata": {},
     "outputs": [
      {
       "output_type": "stream",
       "stream": "stdout",
       "text": [
        "Read group set ID for sample NA12872 is \"CMvnhpKTFhDu5oWzv-LJtIEB\"\n"
       ]
      }
     ],
     "prompt_number": 24
    },
    {
     "cell_type": "heading",
     "level": 3,
     "metadata": {},
     "source": [
      "Fetching reads"
     ]
    },
    {
     "cell_type": "markdown",
     "metadata": {},
     "source": [
      "Now that we have the read group set ID, we can lookup the reads at the position we are interested in.\n",
      "\n",
      "We can do this by making another request to the Genomics API, following the same steps as retrieving the read group set ID, except we'll access the **Reads** resource this time."
     ]
    },
    {
     "cell_type": "code",
     "collapsed": false,
     "input": [
      "request = genomics.reads().search(\n",
      "  body={'readGroupSetIds': [read_group_set_id],\n",
      "        'referenceName': reference_name,\n",
      "        'start': reference_position,\n",
      "        'end': reference_position + 1,\n",
      "        'pageSize': 1024},\n",
      "  fields='alignments(alignment,alignedSequence)')\n",
      "\n",
      "reads = request.execute().get('alignments', [])\n",
      "\n",
      "# Note: This is simplistic - the cigar should be considered for real code\n",
      "bases = [read['alignedSequence'][\n",
      "           reference_position - int(read['alignment']['position']['position'])]\n",
      "         for read in reads]\n",
      "\n",
      "from collections import Counter\n",
      "print '%s bases on chromosome %s at %d are' % (sample, reference_name, reference_position)\n",
      "for base, count in Counter(bases).items():\n",
      "  print '%s: %s' % (base, count)\n"
     ],
     "language": "python",
     "metadata": {},
     "outputs": [
      {
       "output_type": "stream",
       "stream": "stdout",
       "text": [
        "NA12872 bases on chromosome 22 at 51003835 are\n",
        "C: 1\n",
        "G: 13\n"
       ]
      }
     ],
     "prompt_number": 26
    },
    {
     "cell_type": "heading",
     "level": 3,
     "metadata": {},
     "source": [
      "Select a Call Set ID"
     ]
    },
    {
     "cell_type": "markdown",
     "metadata": {},
     "source": [
      "Now let's find the call set ID for our sample. We'll make a request to the `Callsets` API this time."
     ]
    },
    {
     "cell_type": "code",
     "collapsed": false,
     "input": [
      "request = genomics.callsets().search(\n",
      "  body={'variantSetIds': [dataset_id], 'name': sample},\n",
      "  fields='callSets(id)')\n",
      "\n",
      "response = request.execute()\n",
      "\n",
      "call_set_id = response['callSets'][0]['id']"
     ],
     "language": "python",
     "metadata": {},
     "outputs": [],
     "prompt_number": 27
    },
    {
     "cell_type": "code",
     "collapsed": false,
     "input": [
      "print 'Found call set ID \"%s\"' % call_set_id"
     ],
     "language": "python",
     "metadata": {},
     "outputs": [
      {
       "output_type": "stream",
       "stream": "stdout",
       "text": [
        "Found call set ID \"10473108253681171589-26\"\n"
       ]
      }
     ],
     "prompt_number": 29
    },
    {
     "cell_type": "heading",
     "level": 3,
     "metadata": {},
     "source": [
      "Fetching variants"
     ]
    },
    {
     "cell_type": "markdown",
     "metadata": {},
     "source": [
      "Now that we have a call set ID, we can fetch the variants that overlap the position we are interested in."
     ]
    },
    {
     "cell_type": "code",
     "collapsed": false,
     "input": [
      "request = genomics.variants().search(\n",
      "  body={'callSetIds': [call_set_id],\n",
      "        'referenceName': reference_name,\n",
      "        'start': reference_position,\n",
      "        'end': reference_position + 1},\n",
      "  fields='variants(names,referenceBases,alternateBases,calls(genotype))')\n",
      "\n",
      "response = request.execute()\n",
      "\n",
      "# We'll look closer at the first variant\n",
      "variant = response['variants'][0]\n",
      "\n",
      "# Print the variant data we fetched\n",
      "for item in variant.items():\n",
      "    print '%s => %s' % (item)"
     ],
     "language": "python",
     "metadata": {},
     "outputs": [
      {
       "output_type": "stream",
       "stream": "stdout",
       "text": [
        "calls => [{u'genotype': [1, 1]}]\n",
        "names => [u'rs131767', u'rs131767']\n",
        "alternateBases => [u'G']\n",
        "referenceBases => A\n"
       ]
      }
     ],
     "prompt_number": 39
    },
    {
     "cell_type": "markdown",
     "metadata": {},
     "source": [
      "Finally, we can see what the called genotype of the variant is.\n",
      "\n",
      "To map the genotype indices to bases, we need to concatenate the lists of reference and alternate bases. For this case, this will result in `bases = ['A', 'G']`, so a genotype at `index=1` indicates `bases[1]` which would be G."
     ]
    },
    {
     "cell_type": "code",
     "collapsed": false,
     "input": [
      "variant_name = variants[0]['names'][0]\n",
      "bases = [variant['referenceBases']] + variant['alternateBases']\n",
      "print 'Bases: ', bases\n",
      "\n",
      "genotype = [bases[genotype_index] for genotype_index in variant['calls'][0]['genotype']]"
     ],
     "language": "python",
     "metadata": {},
     "outputs": [
      {
       "output_type": "stream",
       "stream": "stdout",
       "text": [
        "Bases:  [u'A', u'G']\n"
       ]
      }
     ],
     "prompt_number": 41
    },
    {
     "cell_type": "markdown",
     "metadata": {},
     "source": [
      "And now we have the genotype for our variant"
     ]
    },
    {
     "cell_type": "code",
     "collapsed": false,
     "input": [
      "print 'The called genotype is %s for %s' % (','.join(genotype), variant_name)"
     ],
     "language": "python",
     "metadata": {},
     "outputs": [
      {
       "output_type": "stream",
       "stream": "stdout",
       "text": [
        "The called genotype is G,G for rs131767\n"
       ]
      }
     ],
     "prompt_number": 43
    },
    {
     "cell_type": "code",
     "collapsed": false,
     "input": [],
     "language": "python",
     "metadata": {},
     "outputs": []
    }
   ],
   "metadata": {}
  }
 ]
}