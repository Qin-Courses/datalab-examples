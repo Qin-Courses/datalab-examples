{
 "metadata": {
  "name": "",
  "signature": "sha256:2090d83557090756856cedb5f8622545f3f27d1239d236b478ef4580fb68e500"
 },
 "nbformat": 3,
 "nbformat_minor": 0,
 "worksheets": [
  {
   "cells": [
    {
     "cell_type": "heading",
     "level": 1,
     "metadata": {},
     "source": [
      "Computing transition/transversion ratios"
     ]
    },
    {
     "cell_type": "markdown",
     "metadata": {},
     "source": [
      "The transition transversion ratio in human is observed to be around 2.1 and this can be used as a confirmation for the filtering in a SNP discovery project.\n",
      "\n",
      "Related Links:\n",
      "* [BigQuery](https://cloud.google.com/bigquery/)\n",
      "* BigQuery [SQL reference](https://cloud.google.com/bigquery/query-reference)\n",
      "* [1,000 Genomes Data Description](http://googlegenomics.readthedocs.org/en/latest/use_cases/discover_public_data/1000_genomes.html)\n",
      "* This notebook is based on the [Google Genomics](https://cloud.google.com/genomics/) BigQuery example [ti-tv-ratio.sql](https://github.com/googlegenomics/bigquery-examples/blob/master/1000genomes/sql/ti-tv-ratio.sql)\n",
      "\n",
      "----\n"
     ]
    },
    {
     "cell_type": "heading",
     "level": 2,
     "metadata": {},
     "source": [
      "Examining the variant schema"
     ]
    },
    {
     "cell_type": "markdown",
     "metadata": {},
     "source": [
      "We begin by importing the `gcp.bigquery` library that will be used for interacting with genomics datasets stored within BigQuery."
     ]
    },
    {
     "cell_type": "code",
     "collapsed": false,
     "input": [
      "import gcp.bigquery as bq"
     ],
     "language": "python",
     "metadata": {},
     "outputs": []
    },
    {
     "cell_type": "markdown",
     "metadata": {},
     "source": [
      "Using this library, we can take a look at the schema for the 1000 genomes variants table that will be used in this Ti/Tv ratio analysis."
     ]
    },
    {
     "cell_type": "code",
     "collapsed": false,
     "input": [
      "table = bq.table('genomics-public-data:1000_genomes.variants')\n",
      "table.schema"
     ],
     "language": "python",
     "metadata": {},
     "outputs": []
    },
    {
     "cell_type": "heading",
     "level": 2,
     "metadata": {},
     "source": [
      "Writing a query"
     ]
    },
    {
     "cell_type": "code",
     "collapsed": false,
     "input": [
      "%%sql --name titv\n",
      "# Compute the Ti/Tv ratio of the 1,000 Genomes dataset.\n",
      "SELECT\n",
      "  transitions,\n",
      "  transversions,\n",
      "  transitions/transversions AS titv\n",
      "FROM (\n",
      "  SELECT\n",
      "    SUM(IF(mutation IN ('A->G',\n",
      "          'G->A',\n",
      "          'C->T',\n",
      "          'T->C'),\n",
      "        INTEGER(num_snps),\n",
      "        INTEGER(0))) AS transitions,\n",
      "    SUM(IF(mutation IN ('A->C',\n",
      "          'C->A',\n",
      "          'G->T',\n",
      "          'T->G',\n",
      "          'A->T',\n",
      "          'T->A',\n",
      "          'C->G',\n",
      "          'G->C'),\n",
      "        INTEGER(num_snps),\n",
      "        INTEGER(0))) AS transversions,\n",
      "  FROM (\n",
      "    SELECT\n",
      "      CONCAT(reference_bases,\n",
      "        CONCAT(STRING('->'),\n",
      "          alternate_bases)) AS mutation,\n",
      "      COUNT(alternate_bases) AS num_snps,\n",
      "    FROM\n",
      "      $table\n",
      "    WHERE\n",
      "      vt = 'SNP'\n",
      "    GROUP BY\n",
      "      mutation\n",
      "    ORDER BY\n",
      "      mutation))"
     ],
     "language": "python",
     "metadata": {},
     "outputs": []
    },
    {
     "cell_type": "heading",
     "level": 2,
     "metadata": {},
     "source": [
      "Executing your query"
     ]
    },
    {
     "cell_type": "markdown",
     "metadata": {},
     "source": [
      "The following will issue our `titv` query to BigQuery and then retrieve the results into a Pandas dataframe."
     ]
    },
    {
     "cell_type": "code",
     "collapsed": false,
     "input": [
      "df = bq.query(titv, args={'table':table}).to_dataframe()\n",
      "df"
     ],
     "language": "python",
     "metadata": {},
     "outputs": []
    }
   ],
   "metadata": {}
  }
 ]
}