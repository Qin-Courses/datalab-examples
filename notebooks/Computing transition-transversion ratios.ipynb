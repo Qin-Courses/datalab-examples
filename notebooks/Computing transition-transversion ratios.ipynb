{
 "metadata": {
  "name": "",
  "signature": "sha256:d380cf388efac882b32683f4bd8fb1264ae6b06592e3558e10b8081f39b1e405"
 },
 "nbformat": 3,
 "nbformat_minor": 0,
 "worksheets": [
  {
   "cells": [
    {
     "cell_type": "heading",
     "level": 1,
     "metadata": {},
     "source": [
      "Computing transition/transversion ratios"
     ]
    },
    {
     "cell_type": "markdown",
     "metadata": {},
     "source": [
      "The transition transversion ratio in human is observed to be around 2.1 and this can be used as a confirmation for the filtering in a SNP discovery project.\n",
      "\n",
      "Related Links:\n",
      "* [BigQuery](https://cloud.google.com/bigquery/)\n",
      "* BigQuery [SQL reference](https://cloud.google.com/bigquery/query-reference)\n",
      "* [1,000 Genomes Data Description](http://googlegenomics.readthedocs.org/en/latest/use_cases/discover_public_data/1000_genomes.html)\n",
      "* This notebook is based on the [Google Genomics](https://cloud.google.com/genomics/) BigQuery example [ti-tv-ratio.sql](https://github.com/googlegenomics/bigquery-examples/blob/master/1000genomes/sql/ti-tv-ratio.sql)\n",
      "\n",
      "----\n"
     ]
    },
    {
     "cell_type": "heading",
     "level": 2,
     "metadata": {},
     "source": [
      "Examining the variant schema"
     ]
    },
    {
     "cell_type": "markdown",
     "metadata": {},
     "source": [
      "We begin by importing the `gcp.bigquery` library that will be used for interacting with genomics datasets stored within BigQuery."
     ]
    },
    {
     "cell_type": "code",
     "collapsed": false,
     "input": [
      "import gcp.bigquery as bq"
     ],
     "language": "python",
     "metadata": {},
     "outputs": [],
     "prompt_number": 11
    },
    {
     "cell_type": "markdown",
     "metadata": {},
     "source": [
      "Using this library, we can take a look at the schema for the 1000 genomes variants table that will be used in this Ti/Tv ratio analysis."
     ]
    },
    {
     "cell_type": "code",
     "collapsed": false,
     "input": [
      "table = bq.table('genomics-public-data:1000_genomes.variants')\n",
      "table.schema"
     ],
     "language": "python",
     "metadata": {},
     "outputs": [
      {
       "html": [
        "\n",
        "    <div class=\"bqsv\" id=\"bqsv_144175524984\"></div>\n",
        "    <script>\n",
        "      require(['extensions/bigquery', 'element!bqsv_144175524984', 'style!/static/extensions/bigquery.css'],\n",
        "          function(bq, dom) {\n",
        "              bq.renderSchema(dom, [{\"description\": \"An identifier from the reference genome or an angle-bracketed ID String pointing to a contig in the assembly file.\", \"type\": \"STRING\", \"name\": \"reference_name\", \"mode\": \"NULLABLE\"}, {\"description\": \"The reference position, with the first base having position 0.\", \"type\": \"INTEGER\", \"name\": \"start\", \"mode\": \"NULLABLE\"}, {\"description\": \"INFO=<ID=END,Number=1,Type=Integer,Description=\\\"End position of the variant described in this record\\\">\", \"type\": \"INTEGER\", \"name\": \"end\", \"mode\": \"NULLABLE\"}, {\"description\": \"Each base must be one of A,C,G,T,N (case insensitive). Multiple bases are permitted. The value in the POS field refers to the position of the first base in the String.\", \"type\": \"STRING\", \"name\": \"reference_bases\", \"mode\": \"NULLABLE\"}, {\"description\": \"List of alternate non-reference alleles called on at least one of the samples. (\\\"at least one\\\" not true for this dataset)\", \"type\": \"STRING\", \"name\": \"alternate_bases\", \"mode\": \"REPEATED\"}, {\"description\": \"phred-scaled quality score for the assertion made in ALT.\", \"type\": \"FLOAT\", \"name\": \"quality\", \"mode\": \"NULLABLE\"}, {\"description\": \"PASS if this position has passed all filters, i.e. a call is made at this position. Otherwise, if the site has not passed all filters, a list of codes for filters that fail.\", \"type\": \"STRING\", \"name\": \"filter\", \"mode\": \"REPEATED\"}, {\"description\": \"List of unique identifiers for the variant where available.\", \"type\": \"STRING\", \"name\": \"names\", \"mode\": \"REPEATED\"}, {\"fields\": [{\"description\": \"The id of the callset from which this data was exported from the Google Genomics Variants API.\", \"type\": \"STRING\", \"name\": \"call_set_id\", \"mode\": \"NULLABLE\"}, {\"description\": \"Sample identifier.\", \"type\": \"STRING\", \"name\": \"call_set_name\", \"mode\": \"NULLABLE\"}, {\"description\": \"List of genotypes.\", \"type\": \"INTEGER\", \"name\": \"genotype\", \"mode\": \"REPEATED\"}, {\"description\": \"If this value is null, the data is unphased.  Otherwise it is phased.\", \"type\": \"STRING\", \"name\": \"phaseset\", \"mode\": \"NULLABLE\"}, {\"description\": \"List of genotype likelihoods.\", \"type\": \"FLOAT\", \"name\": \"genotype_likelihood\", \"mode\": \"REPEATED\"}, {\"description\": \"FORMAT=<ID=DP,Number=1,Type=Integer,Description=\\\"# high-quality bases\\\">\", \"type\": \"INTEGER\", \"name\": \"DP\", \"mode\": \"NULLABLE\"}, {\"description\": \"FORMAT=<ID=DS,Number=1,Type=Float,Description=\\\"Genotype dosage from MaCH/Thunder\\\">\", \"type\": \"FLOAT\", \"name\": \"DS\", \"mode\": \"NULLABLE\"}, {\"type\": \"STRING\", \"name\": \"FT\", \"mode\": \"NULLABLE\"}, {\"description\": \"FORMAT=<ID=GQ,Number=1,Type=Float,Description=\\\"Genotype quality\\\">\", \"type\": \"STRING\", \"name\": \"GQ\", \"mode\": \"NULLABLE\"}, {\"description\": \"FORMAT=<ID=PL,Number=.,Type=Integer,Description=\\\"List of Phred-scaled genotype likelihoods, number of values is (#ALT+1)*(#ALT+2)/2\\\">\", \"type\": \"INTEGER\", \"name\": \"PL\", \"mode\": \"REPEATED\"}, {\"description\": \"FORMAT=<ID=SP,Number=1,Type=Integer,Description=\\\"Phred-scaled strand bias P-value\\\">\", \"type\": \"INTEGER\", \"name\": \"SP\", \"mode\": \"NULLABLE\"}], \"description\": \"Per-sample measurements.\", \"type\": \"RECORD\", \"name\": \"call\", \"mode\": \"REPEATED\"}, {\"description\": \"INFO=<ID=AA,Number=1,Type=String,Description=\\\"Ancestral Allele, ftp://ftp.1000genomes.ebi.ac.uk/vol1/ftp/pilot_data/technical/reference/ancestral_alignments/README\\\">\", \"type\": \"STRING\", \"name\": \"AA\", \"mode\": \"NULLABLE\"}, {\"description\": \"INFO=<ID=AC,Number=.,Type=Integer,Description=\\\"Alternate Allele Count\\\">\", \"type\": \"INTEGER\", \"name\": \"AC\", \"mode\": \"REPEATED\"}, {\"description\": \"INFO=<ID=AC1,Number=1,Type=Float,Description=\\\"Max-likelihood estimate of the first ALT allele count (no HWE assumption)\\\">\", \"type\": \"INTEGER\", \"name\": \"AC1\", \"mode\": \"NULLABLE\"}, {\"description\": \"INFO=<ID=AF,Number=1,Type=Float,Description=\\\"Global Allele Frequency based on AC/AN\\\">\", \"type\": \"FLOAT\", \"name\": \"AF\", \"mode\": \"NULLABLE\"}, {\"description\": \"INFO=<ID=AF1,Number=1,Type=Float,Description=\\\"Max-likelihood estimate of the first ALT allele frequency (assuming HWE)\\\">\", \"type\": \"FLOAT\", \"name\": \"AF1\", \"mode\": \"NULLABLE\"}, {\"description\": \"INFO=<ID=AFR_AF,Number=1,Type=Float,Description=\\\"Allele Frequency for samples from AFR based on AC/AN\\\">\", \"type\": \"FLOAT\", \"name\": \"AFR_AF\", \"mode\": \"NULLABLE\"}, {\"description\": \"INFO=<ID=AMR_AF,Number=1,Type=Float,Description=\\\"Allele Frequency for samples from AMR based on AC/AN\\\">\", \"type\": \"FLOAT\", \"name\": \"AMR_AF\", \"mode\": \"NULLABLE\"}, {\"description\": \"INFO=<ID=AN,Number=1,Type=Integer,Description=\\\"Total Allele Count\\\">\", \"type\": \"INTEGER\", \"name\": \"AN\", \"mode\": \"NULLABLE\"}, {\"description\": \"INFO=<ID=ASN_AF,Number=1,Type=Float,Description=\\\"Allele Frequency for samples from ASN based on AC/AN\\\">\", \"type\": \"FLOAT\", \"name\": \"ASN_AF\", \"mode\": \"NULLABLE\"}, {\"description\": \"INFO=<ID=AVGPOST,Number=1,Type=Float,Description=\\\"Average posterior probability from MaCH/Thunder\\\">\", \"type\": \"FLOAT\", \"name\": \"AVGPOST\", \"mode\": \"NULLABLE\"}, {\"description\": \"INFO=<ID=CIEND,Number=2,Type=Integer,Description=\\\"Confidence interval around END for imprecise variants\\\">\", \"type\": \"INTEGER\", \"name\": \"CIEND\", \"mode\": \"REPEATED\"}, {\"description\": \"INFO=<ID=CIPOS,Number=2,Type=Integer,Description=\\\"Confidence interval around POS for imprecise variants\\\">\", \"type\": \"INTEGER\", \"name\": \"CIPOS\", \"mode\": \"REPEATED\"}, {\"description\": \"INFO=<ID=DP,Number=1,Type=Integer,Description=\\\"Raw read depth\\\">\", \"type\": \"INTEGER\", \"name\": \"DP\", \"mode\": \"NULLABLE\"}, {\"description\": \"INFO=<ID=DP4,Number=4,Type=Integer,Description=\\\"# high-quality ref-forward bases, ref-reverse, alt-forward and alt-reverse bases\\\">\", \"type\": \"INTEGER\", \"name\": \"DP4\", \"mode\": \"REPEATED\"}, {\"description\": \"INFO=<ID=ERATE,Number=1,Type=Float,Description=\\\"Per-marker Mutation rate from MaCH/Thunder\\\">\", \"type\": \"FLOAT\", \"name\": \"ERATE\", \"mode\": \"NULLABLE\"}, {\"description\": \"INFO=<ID=EUR_AF,Number=1,Type=Float,Description=\\\"Allele Frequency for samples from EUR based on AC/AN\\\">\", \"type\": \"FLOAT\", \"name\": \"EUR_AF\", \"mode\": \"NULLABLE\"}, {\"description\": \"INFO=<ID=FQ,Number=1,Type=Float,Description=\\\"Phred probability of all samples being the same\\\">\", \"type\": \"FLOAT\", \"name\": \"FQ\", \"mode\": \"NULLABLE\"}, {\"description\": \"INFO=<ID=G3,Number=3,Type=Float,Description=\\\"ML estimate of genotype frequencies\\\">\", \"type\": \"FLOAT\", \"name\": \"G3\", \"mode\": \"REPEATED\"}, {\"description\": \"INFO=<ID=HOMLEN,Number=.,Type=Integer,Description=\\\"Length of base pair identical micro-homology at event breakpoints\\\">\", \"type\": \"INTEGER\", \"name\": \"HOMLEN\", \"mode\": \"NULLABLE\"}, {\"description\": \"INFO=<ID=HOMSEQ,Number=.,Type=String,Description=\\\"Sequence of base pair identical micro-homology at event breakpoints\\\">\", \"type\": \"STRING\", \"name\": \"HOMSEQ\", \"mode\": \"NULLABLE\"}, {\"description\": \"INFO=<ID=HWE,Number=1,Type=Float,Description=\\\"Chi^2 based HWE test P-value based on G3\\\">\", \"type\": \"FLOAT\", \"name\": \"HWE\", \"mode\": \"NULLABLE\"}, {\"description\": \"INFO=<ID=LDAF,Number=1,Type=Float,Description=\\\"MLE Allele Frequency Accounting for LD\\\">\", \"type\": \"FLOAT\", \"name\": \"LDAF\", \"mode\": \"NULLABLE\"}, {\"description\": \"INFO=<ID=MQ,Number=1,Type=Integer,Description=\\\"Root-mean-square mapping quality of covering reads\\\">\", \"type\": \"INTEGER\", \"name\": \"MQ\", \"mode\": \"NULLABLE\"}, {\"description\": \"INFO=<ID=PV4,Number=4,Type=Float,Description=\\\"P-values for strand bias, baseQ bias, mapQ bias and tail distance bias\\\">\", \"type\": \"FLOAT\", \"name\": \"PV4\", \"mode\": \"REPEATED\"}, {\"description\": \"INFO=<ID=RSQ,Number=1,Type=Float,Description=\\\"Genotype imputation quality from MaCH/Thunder\\\">\", \"type\": \"FLOAT\", \"name\": \"RSQ\", \"mode\": \"NULLABLE\"}, {\"description\": \"INFO=<ID=SNPSOURCE,Number=.,Type=String,Description=\\\"indicates if a snp was called when analysing the low coverage or exome alignment data\\\">\", \"type\": \"STRING\", \"name\": \"SNPSOURCE\", \"mode\": \"REPEATED\"}, {\"description\": \"\", \"type\": \"STRING\", \"name\": \"SOURCE\", \"mode\": \"REPEATED\"}, {\"description\": \"INFO=<ID=SVLEN,Number=1,Type=Integer,Description=\\\"Difference in length between REF and ALT alleles\\\">\", \"type\": \"INTEGER\", \"name\": \"SVLEN\", \"mode\": \"NULLABLE\"}, {\"description\": \"INFO=<ID=SVTYPE,Number=1,Type=String,Description=\\\"Type of structural variant\\\">\", \"type\": \"STRING\", \"name\": \"SVTYPE\", \"mode\": \"NULLABLE\"}, {\"description\": \"INFO=<ID=THETA,Number=1,Type=Float,Description=\\\"Per-marker Transition rate from MaCH/Thunder\\\">\", \"type\": \"FLOAT\", \"name\": \"THETA\", \"mode\": \"NULLABLE\"}, {\"description\": \"INFO=<ID=VT,Number=1,Type=String,Description=\\\"indicates what type of variant the line represents\\\">\", \"type\": \"STRING\", \"name\": \"VT\", \"mode\": \"NULLABLE\"}]);\n",
        "          }\n",
        "      );\n",
        "    </script>\n",
        "    "
       ],
       "metadata": {},
       "output_type": "pyout",
       "prompt_number": 12,
       "text": [
        "[{ 'name': 'reference_name', 'type': 'STRING', 'mode':'NULLABLE', 'description': 'An identifier from the reference genome or an angle-bracketed ID String pointing to a contig in the assembly file.' },\n",
        " { 'name': 'start', 'type': 'INTEGER', 'mode':'NULLABLE', 'description': 'The reference position, with the first base having position 0.' },\n",
        " { 'name': 'end', 'type': 'INTEGER', 'mode':'NULLABLE', 'description': 'INFO=<ID=END,Number=1,Type=Integer,Description=\"End position of the variant described in this record\">' },\n",
        " { 'name': 'reference_bases', 'type': 'STRING', 'mode':'NULLABLE', 'description': 'Each base must be one of A,C,G,T,N (case insensitive). Multiple bases are permitted. The value in the POS field refers to the position of the first base in the String.' },\n",
        " { 'name': 'alternate_bases', 'type': 'STRING', 'mode':'REPEATED', 'description': 'List of alternate non-reference alleles called on at least one of the samples. (\"at least one\" not true for this dataset)' },\n",
        " { 'name': 'quality', 'type': 'FLOAT', 'mode':'NULLABLE', 'description': 'phred-scaled quality score for the assertion made in ALT.' },\n",
        " { 'name': 'filter', 'type': 'STRING', 'mode':'REPEATED', 'description': 'PASS if this position has passed all filters, i.e. a call is made at this position. Otherwise, if the site has not passed all filters, a list of codes for filters that fail.' },\n",
        " { 'name': 'names', 'type': 'STRING', 'mode':'REPEATED', 'description': 'List of unique identifiers for the variant where available.' },\n",
        " { 'name': 'call', 'type': 'RECORD', 'mode':'REPEATED', 'description': 'Per-sample measurements.' },\n",
        " { 'name': 'call.call_set_id', 'type': 'STRING', 'mode':'NULLABLE', 'description': 'The id of the callset from which this data was exported from the Google Genomics Variants API.' },\n",
        " { 'name': 'call.call_set_name', 'type': 'STRING', 'mode':'NULLABLE', 'description': 'Sample identifier.' },\n",
        " { 'name': 'call.genotype', 'type': 'INTEGER', 'mode':'REPEATED', 'description': 'List of genotypes.' },\n",
        " { 'name': 'call.phaseset', 'type': 'STRING', 'mode':'NULLABLE', 'description': 'If this value is null, the data is unphased.  Otherwise it is phased.' },\n",
        " { 'name': 'call.genotype_likelihood', 'type': 'FLOAT', 'mode':'REPEATED', 'description': 'List of genotype likelihoods.' },\n",
        " { 'name': 'call.DP', 'type': 'INTEGER', 'mode':'NULLABLE', 'description': 'FORMAT=<ID=DP,Number=1,Type=Integer,Description=\"# high-quality bases\">' },\n",
        " { 'name': 'call.DS', 'type': 'FLOAT', 'mode':'NULLABLE', 'description': 'FORMAT=<ID=DS,Number=1,Type=Float,Description=\"Genotype dosage from MaCH/Thunder\">' },\n",
        " { 'name': 'call.FT', 'type': 'STRING', 'mode':'NULLABLE', 'description': 'None' },\n",
        " { 'name': 'call.GQ', 'type': 'STRING', 'mode':'NULLABLE', 'description': 'FORMAT=<ID=GQ,Number=1,Type=Float,Description=\"Genotype quality\">' },\n",
        " { 'name': 'call.PL', 'type': 'INTEGER', 'mode':'REPEATED', 'description': 'FORMAT=<ID=PL,Number=.,Type=Integer,Description=\"List of Phred-scaled genotype likelihoods, number of values is (#ALT+1)*(#ALT+2)/2\">' },\n",
        " { 'name': 'call.SP', 'type': 'INTEGER', 'mode':'NULLABLE', 'description': 'FORMAT=<ID=SP,Number=1,Type=Integer,Description=\"Phred-scaled strand bias P-value\">' },\n",
        " { 'name': 'AA', 'type': 'STRING', 'mode':'NULLABLE', 'description': 'INFO=<ID=AA,Number=1,Type=String,Description=\"Ancestral Allele, ftp://ftp.1000genomes.ebi.ac.uk/vol1/ftp/pilot_data/technical/reference/ancestral_alignments/README\">' },\n",
        " { 'name': 'AC', 'type': 'INTEGER', 'mode':'REPEATED', 'description': 'INFO=<ID=AC,Number=.,Type=Integer,Description=\"Alternate Allele Count\">' },\n",
        " { 'name': 'AC1', 'type': 'INTEGER', 'mode':'NULLABLE', 'description': 'INFO=<ID=AC1,Number=1,Type=Float,Description=\"Max-likelihood estimate of the first ALT allele count (no HWE assumption)\">' },\n",
        " { 'name': 'AF', 'type': 'FLOAT', 'mode':'NULLABLE', 'description': 'INFO=<ID=AF,Number=1,Type=Float,Description=\"Global Allele Frequency based on AC/AN\">' },\n",
        " { 'name': 'AF1', 'type': 'FLOAT', 'mode':'NULLABLE', 'description': 'INFO=<ID=AF1,Number=1,Type=Float,Description=\"Max-likelihood estimate of the first ALT allele frequency (assuming HWE)\">' },\n",
        " { 'name': 'AFR_AF', 'type': 'FLOAT', 'mode':'NULLABLE', 'description': 'INFO=<ID=AFR_AF,Number=1,Type=Float,Description=\"Allele Frequency for samples from AFR based on AC/AN\">' },\n",
        " { 'name': 'AMR_AF', 'type': 'FLOAT', 'mode':'NULLABLE', 'description': 'INFO=<ID=AMR_AF,Number=1,Type=Float,Description=\"Allele Frequency for samples from AMR based on AC/AN\">' },\n",
        " { 'name': 'AN', 'type': 'INTEGER', 'mode':'NULLABLE', 'description': 'INFO=<ID=AN,Number=1,Type=Integer,Description=\"Total Allele Count\">' },\n",
        " { 'name': 'ASN_AF', 'type': 'FLOAT', 'mode':'NULLABLE', 'description': 'INFO=<ID=ASN_AF,Number=1,Type=Float,Description=\"Allele Frequency for samples from ASN based on AC/AN\">' },\n",
        " { 'name': 'AVGPOST', 'type': 'FLOAT', 'mode':'NULLABLE', 'description': 'INFO=<ID=AVGPOST,Number=1,Type=Float,Description=\"Average posterior probability from MaCH/Thunder\">' },\n",
        " { 'name': 'CIEND', 'type': 'INTEGER', 'mode':'REPEATED', 'description': 'INFO=<ID=CIEND,Number=2,Type=Integer,Description=\"Confidence interval around END for imprecise variants\">' },\n",
        " { 'name': 'CIPOS', 'type': 'INTEGER', 'mode':'REPEATED', 'description': 'INFO=<ID=CIPOS,Number=2,Type=Integer,Description=\"Confidence interval around POS for imprecise variants\">' },\n",
        " { 'name': 'DP', 'type': 'INTEGER', 'mode':'NULLABLE', 'description': 'INFO=<ID=DP,Number=1,Type=Integer,Description=\"Raw read depth\">' },\n",
        " { 'name': 'DP4', 'type': 'INTEGER', 'mode':'REPEATED', 'description': 'INFO=<ID=DP4,Number=4,Type=Integer,Description=\"# high-quality ref-forward bases, ref-reverse, alt-forward and alt-reverse bases\">' },\n",
        " { 'name': 'ERATE', 'type': 'FLOAT', 'mode':'NULLABLE', 'description': 'INFO=<ID=ERATE,Number=1,Type=Float,Description=\"Per-marker Mutation rate from MaCH/Thunder\">' },\n",
        " { 'name': 'EUR_AF', 'type': 'FLOAT', 'mode':'NULLABLE', 'description': 'INFO=<ID=EUR_AF,Number=1,Type=Float,Description=\"Allele Frequency for samples from EUR based on AC/AN\">' },\n",
        " { 'name': 'FQ', 'type': 'FLOAT', 'mode':'NULLABLE', 'description': 'INFO=<ID=FQ,Number=1,Type=Float,Description=\"Phred probability of all samples being the same\">' },\n",
        " { 'name': 'G3', 'type': 'FLOAT', 'mode':'REPEATED', 'description': 'INFO=<ID=G3,Number=3,Type=Float,Description=\"ML estimate of genotype frequencies\">' },\n",
        " { 'name': 'HOMLEN', 'type': 'INTEGER', 'mode':'NULLABLE', 'description': 'INFO=<ID=HOMLEN,Number=.,Type=Integer,Description=\"Length of base pair identical micro-homology at event breakpoints\">' },\n",
        " { 'name': 'HOMSEQ', 'type': 'STRING', 'mode':'NULLABLE', 'description': 'INFO=<ID=HOMSEQ,Number=.,Type=String,Description=\"Sequence of base pair identical micro-homology at event breakpoints\">' },\n",
        " { 'name': 'HWE', 'type': 'FLOAT', 'mode':'NULLABLE', 'description': 'INFO=<ID=HWE,Number=1,Type=Float,Description=\"Chi^2 based HWE test P-value based on G3\">' },\n",
        " { 'name': 'LDAF', 'type': 'FLOAT', 'mode':'NULLABLE', 'description': 'INFO=<ID=LDAF,Number=1,Type=Float,Description=\"MLE Allele Frequency Accounting for LD\">' },\n",
        " { 'name': 'MQ', 'type': 'INTEGER', 'mode':'NULLABLE', 'description': 'INFO=<ID=MQ,Number=1,Type=Integer,Description=\"Root-mean-square mapping quality of covering reads\">' },\n",
        " { 'name': 'PV4', 'type': 'FLOAT', 'mode':'REPEATED', 'description': 'INFO=<ID=PV4,Number=4,Type=Float,Description=\"P-values for strand bias, baseQ bias, mapQ bias and tail distance bias\">' },\n",
        " { 'name': 'RSQ', 'type': 'FLOAT', 'mode':'NULLABLE', 'description': 'INFO=<ID=RSQ,Number=1,Type=Float,Description=\"Genotype imputation quality from MaCH/Thunder\">' },\n",
        " { 'name': 'SNPSOURCE', 'type': 'STRING', 'mode':'REPEATED', 'description': 'INFO=<ID=SNPSOURCE,Number=.,Type=String,Description=\"indicates if a snp was called when analysing the low coverage or exome alignment data\">' },\n",
        " { 'name': 'SOURCE', 'type': 'STRING', 'mode':'REPEATED', 'description': '' },\n",
        " { 'name': 'SVLEN', 'type': 'INTEGER', 'mode':'NULLABLE', 'description': 'INFO=<ID=SVLEN,Number=1,Type=Integer,Description=\"Difference in length between REF and ALT alleles\">' },\n",
        " { 'name': 'SVTYPE', 'type': 'STRING', 'mode':'NULLABLE', 'description': 'INFO=<ID=SVTYPE,Number=1,Type=String,Description=\"Type of structural variant\">' },\n",
        " { 'name': 'THETA', 'type': 'FLOAT', 'mode':'NULLABLE', 'description': 'INFO=<ID=THETA,Number=1,Type=Float,Description=\"Per-marker Transition rate from MaCH/Thunder\">' },\n",
        " { 'name': 'VT', 'type': 'STRING', 'mode':'NULLABLE', 'description': 'INFO=<ID=VT,Number=1,Type=String,Description=\"indicates what type of variant the line represents\">' }]"
       ]
      }
     ],
     "prompt_number": 12
    },
    {
     "cell_type": "heading",
     "level": 2,
     "metadata": {},
     "source": [
      "Writing a query"
     ]
    },
    {
     "cell_type": "code",
     "collapsed": false,
     "input": [
      "%%sql --name titv\n",
      "# Compute the Ti/Tv ratio of the 1,000 Genomes dataset.\n",
      "SELECT\n",
      "  transitions,\n",
      "  transversions,\n",
      "  transitions/transversions AS titv\n",
      "FROM (\n",
      "  SELECT\n",
      "    SUM(IF(mutation IN ('A->G',\n",
      "          'G->A',\n",
      "          'C->T',\n",
      "          'T->C'),\n",
      "        INTEGER(num_snps),\n",
      "        INTEGER(0))) AS transitions,\n",
      "    SUM(IF(mutation IN ('A->C',\n",
      "          'C->A',\n",
      "          'G->T',\n",
      "          'T->G',\n",
      "          'A->T',\n",
      "          'T->A',\n",
      "          'C->G',\n",
      "          'G->C'),\n",
      "        INTEGER(num_snps),\n",
      "        INTEGER(0))) AS transversions,\n",
      "  FROM (\n",
      "    SELECT\n",
      "      CONCAT(reference_bases,\n",
      "        CONCAT(STRING('->'),\n",
      "          alternate_bases)) AS mutation,\n",
      "      COUNT(alternate_bases) AS num_snps,\n",
      "    FROM\n",
      "      $table\n",
      "    WHERE\n",
      "      vt = 'SNP'\n",
      "    GROUP BY\n",
      "      mutation\n",
      "    ORDER BY\n",
      "      mutation))"
     ],
     "language": "python",
     "metadata": {},
     "outputs": [],
     "prompt_number": 13
    },
    {
     "cell_type": "heading",
     "level": 2,
     "metadata": {},
     "source": [
      "Executing your query"
     ]
    },
    {
     "cell_type": "markdown",
     "metadata": {},
     "source": [
      "The following will issue our `titv` query to BigQuery and then retrieve the results into a Pandas dataframe."
     ]
    },
    {
     "cell_type": "code",
     "collapsed": false,
     "input": [
      "df = bq.query(titv, args={'table':table}).to_dataframe()\n",
      "df"
     ],
     "language": "python",
     "metadata": {},
     "outputs": [
      {
       "html": [
        "<div style=\"max-width:1500px;overflow:auto;\">\n",
        "<table border=\"1\" class=\"dataframe\">\n",
        "  <thead>\n",
        "    <tr style=\"text-align: right;\">\n",
        "      <th></th>\n",
        "      <th>transitions</th>\n",
        "      <th>transversions</th>\n",
        "      <th>titv</th>\n",
        "    </tr>\n",
        "  </thead>\n",
        "  <tbody>\n",
        "    <tr>\n",
        "      <th>0</th>\n",
        "      <td>26130017</td>\n",
        "      <td>12118762</td>\n",
        "      <td>2.156162</td>\n",
        "    </tr>\n",
        "  </tbody>\n",
        "</table>\n",
        "</div>"
       ],
       "metadata": {},
       "output_type": "pyout",
       "prompt_number": 14,
       "text": [
        "   transitions  transversions      titv\n",
        "0     26130017       12118762  2.156162"
       ]
      }
     ],
     "prompt_number": 14
    }
   ],
   "metadata": {}
  }
 ]
}