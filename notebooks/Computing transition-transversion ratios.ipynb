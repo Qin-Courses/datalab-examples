{
 "metadata": {
  "name": "",
  "signature": "sha256:8c4a344107cc2c0145eea45ae0cfb20a31a7fadc30d65d3f87588e2819b02e74"
 },
 "nbformat": 3,
 "nbformat_minor": 0,
 "worksheets": [
  {
   "cells": [
    {
     "cell_type": "heading",
     "level": 1,
     "metadata": {},
     "source": [
      "Computing transition/transversion ratios"
     ]
    },
    {
     "cell_type": "markdown",
     "metadata": {},
     "source": [
      "The transition transversion ratio in human is observed to be around 2.1 and this can be used as a confirmation for the filtering in a SNP discovery project.\n",
      "\n",
      "### Attribution\n",
      "This notebook is based on the [Google Genomics](https://cloud.google.com/genomics/) BigQuery examples here:\n",
      "* [1000 Genomes](https://github.com/googlegenomics/bigquery-examples/blob/master/1000genomes/sql/ti-tv-ratio.sql)\n",
      "\n",
      "### References\n",
      "* TODO: link to generic BigQuery IPython getting started docs/notebooks\n",
      "\n",
      "----\n"
     ]
    },
    {
     "cell_type": "heading",
     "level": 2,
     "metadata": {},
     "source": [
      "Examining the variant dataset schema"
     ]
    },
    {
     "cell_type": "markdown",
     "metadata": {},
     "source": [
      "We begin by importing the `gcp.bigquery` library that will be used for interacting with genomics datasets stored within BigQuery."
     ]
    },
    {
     "cell_type": "code",
     "collapsed": false,
     "input": [
      "import gcp.bigquery as bq\n",
      "import gcp.interactive"
     ],
     "language": "python",
     "metadata": {},
     "outputs": [],
     "prompt_number": 1
    },
    {
     "cell_type": "markdown",
     "metadata": {},
     "source": [
      "Using this library, we can take a look at the schema for the 1000 genomes variants table that will be used in this Ti/Tv ratio analysis."
     ]
    },
    {
     "cell_type": "code",
     "collapsed": false,
     "input": [
      "table = bq.table('genomics-public-data:1000_genomes.variants')\n",
      "table.schema()"
     ],
     "language": "python",
     "metadata": {},
     "outputs": [
      {
       "html": [
        "<table><tr><th>name</th><th>data_type</th><th>mode</th><th>description</th></tr><tr><td>reference_name</td><td>STRING</td><td>NULLABLE</td><td>An identifier from the reference genome or an angle-bracketed ID String pointing to a contig in the assembly file.</td></tr><tr><td>start</td><td>INTEGER</td><td>NULLABLE</td><td>The reference position, with the first base having position 0.</td></tr><tr><td>end</td><td>INTEGER</td><td>NULLABLE</td><td>INFO=&lt;ID=END,Number=1,Type=Integer,Description=\"End position of the variant described in this record\"&gt;</td></tr><tr><td>reference_bases</td><td>STRING</td><td>NULLABLE</td><td>Each base must be one of A,C,G,T,N (case insensitive). Multiple bases are permitted. The value in the POS field refers to the position of the first base in the String.</td></tr><tr><td>alternate_bases</td><td>STRING</td><td>REPEATED</td><td>List of alternate non-reference alleles called on at least one of the samples. (\"at least one\" not true for this dataset)</td></tr><tr><td>quality</td><td>FLOAT</td><td>NULLABLE</td><td>phred-scaled quality score for the assertion made in ALT.</td></tr><tr><td>filter</td><td>STRING</td><td>REPEATED</td><td>PASS if this position has passed all filters, i.e. a call is made at this position. Otherwise, if the site has not passed all filters, a list of codes for filters that fail.</td></tr><tr><td>names</td><td>STRING</td><td>REPEATED</td><td>List of unique identifiers for the variant where available.</td></tr><tr><td>call</td><td>RECORD</td><td>REPEATED</td><td>Per-sample measurements.</td></tr><tr><td>call.call_set_id</td><td>STRING</td><td>NULLABLE</td><td>The id of the callset from which this data was exported from the Google Genomics Variants API.</td></tr><tr><td>call.call_set_name</td><td>STRING</td><td>NULLABLE</td><td>Sample identifier.</td></tr><tr><td>call.genotype</td><td>INTEGER</td><td>REPEATED</td><td>List of genotypes.</td></tr><tr><td>call.phaseset</td><td>STRING</td><td>NULLABLE</td><td>If this value is null, the data is unphased.  Otherwise it is phased.</td></tr><tr><td>call.genotype_likelihood</td><td>FLOAT</td><td>REPEATED</td><td>List of genotype likelihoods.</td></tr><tr><td>call.DP</td><td>INTEGER</td><td>NULLABLE</td><td>FORMAT=&lt;ID=DP,Number=1,Type=Integer,Description=\"# high-quality bases\"&gt;</td></tr><tr><td>call.DS</td><td>FLOAT</td><td>NULLABLE</td><td>FORMAT=&lt;ID=DS,Number=1,Type=Float,Description=\"Genotype dosage from MaCH/Thunder\"&gt;</td></tr><tr><td>call.FT</td><td>STRING</td><td>NULLABLE</td><td></td></tr><tr><td>call.GQ</td><td>STRING</td><td>NULLABLE</td><td>FORMAT=&lt;ID=GQ,Number=1,Type=Float,Description=\"Genotype quality\"&gt;</td></tr><tr><td>call.PL</td><td>INTEGER</td><td>REPEATED</td><td>FORMAT=&lt;ID=PL,Number=.,Type=Integer,Description=\"List of Phred-scaled genotype likelihoods, number of values is (#ALT+1)*(#ALT+2)/2\"&gt;</td></tr><tr><td>call.SP</td><td>INTEGER</td><td>NULLABLE</td><td>FORMAT=&lt;ID=SP,Number=1,Type=Integer,Description=\"Phred-scaled strand bias P-value\"&gt;</td></tr><tr><td>AA</td><td>STRING</td><td>NULLABLE</td><td>INFO=&lt;ID=AA,Number=1,Type=String,Description=\"Ancestral Allele, ftp://ftp.1000genomes.ebi.ac.uk/vol1/ftp/pilot_data/technical/reference/ancestral_alignments/README\"&gt;</td></tr><tr><td>AC</td><td>INTEGER</td><td>REPEATED</td><td>INFO=&lt;ID=AC,Number=.,Type=Integer,Description=\"Alternate Allele Count\"&gt;</td></tr><tr><td>AC1</td><td>INTEGER</td><td>NULLABLE</td><td>INFO=&lt;ID=AC1,Number=1,Type=Float,Description=\"Max-likelihood estimate of the first ALT allele count (no HWE assumption)\"&gt;</td></tr><tr><td>AF</td><td>FLOAT</td><td>NULLABLE</td><td>INFO=&lt;ID=AF,Number=1,Type=Float,Description=\"Global Allele Frequency based on AC/AN\"&gt;</td></tr><tr><td>AF1</td><td>FLOAT</td><td>NULLABLE</td><td>INFO=&lt;ID=AF1,Number=1,Type=Float,Description=\"Max-likelihood estimate of the first ALT allele frequency (assuming HWE)\"&gt;</td></tr><tr><td>AFR_AF</td><td>FLOAT</td><td>NULLABLE</td><td>INFO=&lt;ID=AFR_AF,Number=1,Type=Float,Description=\"Allele Frequency for samples from AFR based on AC/AN\"&gt;</td></tr><tr><td>AMR_AF</td><td>FLOAT</td><td>NULLABLE</td><td>INFO=&lt;ID=AMR_AF,Number=1,Type=Float,Description=\"Allele Frequency for samples from AMR based on AC/AN\"&gt;</td></tr><tr><td>AN</td><td>INTEGER</td><td>NULLABLE</td><td>INFO=&lt;ID=AN,Number=1,Type=Integer,Description=\"Total Allele Count\"&gt;</td></tr><tr><td>ASN_AF</td><td>FLOAT</td><td>NULLABLE</td><td>INFO=&lt;ID=ASN_AF,Number=1,Type=Float,Description=\"Allele Frequency for samples from ASN based on AC/AN\"&gt;</td></tr><tr><td>AVGPOST</td><td>FLOAT</td><td>NULLABLE</td><td>INFO=&lt;ID=AVGPOST,Number=1,Type=Float,Description=\"Average posterior probability from MaCH/Thunder\"&gt;</td></tr><tr><td>CIEND</td><td>INTEGER</td><td>REPEATED</td><td>INFO=&lt;ID=CIEND,Number=2,Type=Integer,Description=\"Confidence interval around END for imprecise variants\"&gt;</td></tr><tr><td>CIPOS</td><td>INTEGER</td><td>REPEATED</td><td>INFO=&lt;ID=CIPOS,Number=2,Type=Integer,Description=\"Confidence interval around POS for imprecise variants\"&gt;</td></tr><tr><td>DP</td><td>INTEGER</td><td>NULLABLE</td><td>INFO=&lt;ID=DP,Number=1,Type=Integer,Description=\"Raw read depth\"&gt;</td></tr><tr><td>DP4</td><td>INTEGER</td><td>REPEATED</td><td>INFO=&lt;ID=DP4,Number=4,Type=Integer,Description=\"# high-quality ref-forward bases, ref-reverse, alt-forward and alt-reverse bases\"&gt;</td></tr><tr><td>ERATE</td><td>FLOAT</td><td>NULLABLE</td><td>INFO=&lt;ID=ERATE,Number=1,Type=Float,Description=\"Per-marker Mutation rate from MaCH/Thunder\"&gt;</td></tr><tr><td>EUR_AF</td><td>FLOAT</td><td>NULLABLE</td><td>INFO=&lt;ID=EUR_AF,Number=1,Type=Float,Description=\"Allele Frequency for samples from EUR based on AC/AN\"&gt;</td></tr><tr><td>FQ</td><td>FLOAT</td><td>NULLABLE</td><td>INFO=&lt;ID=FQ,Number=1,Type=Float,Description=\"Phred probability of all samples being the same\"&gt;</td></tr><tr><td>G3</td><td>FLOAT</td><td>REPEATED</td><td>INFO=&lt;ID=G3,Number=3,Type=Float,Description=\"ML estimate of genotype frequencies\"&gt;</td></tr><tr><td>HOMLEN</td><td>INTEGER</td><td>NULLABLE</td><td>INFO=&lt;ID=HOMLEN,Number=.,Type=Integer,Description=\"Length of base pair identical micro-homology at event breakpoints\"&gt;</td></tr><tr><td>HOMSEQ</td><td>STRING</td><td>NULLABLE</td><td>INFO=&lt;ID=HOMSEQ,Number=.,Type=String,Description=\"Sequence of base pair identical micro-homology at event breakpoints\"&gt;</td></tr><tr><td>HWE</td><td>FLOAT</td><td>NULLABLE</td><td>INFO=&lt;ID=HWE,Number=1,Type=Float,Description=\"Chi^2 based HWE test P-value based on G3\"&gt;</td></tr><tr><td>LDAF</td><td>FLOAT</td><td>NULLABLE</td><td>INFO=&lt;ID=LDAF,Number=1,Type=Float,Description=\"MLE Allele Frequency Accounting for LD\"&gt;</td></tr><tr><td>MQ</td><td>INTEGER</td><td>NULLABLE</td><td>INFO=&lt;ID=MQ,Number=1,Type=Integer,Description=\"Root-mean-square mapping quality of covering reads\"&gt;</td></tr><tr><td>PV4</td><td>FLOAT</td><td>REPEATED</td><td>INFO=&lt;ID=PV4,Number=4,Type=Float,Description=\"P-values for strand bias, baseQ bias, mapQ bias and tail distance bias\"&gt;</td></tr><tr><td>RSQ</td><td>FLOAT</td><td>NULLABLE</td><td>INFO=&lt;ID=RSQ,Number=1,Type=Float,Description=\"Genotype imputation quality from MaCH/Thunder\"&gt;</td></tr><tr><td>SNPSOURCE</td><td>STRING</td><td>REPEATED</td><td>INFO=&lt;ID=SNPSOURCE,Number=.,Type=String,Description=\"indicates if a snp was called when analysing the low coverage or exome alignment data\"&gt;</td></tr><tr><td>SOURCE</td><td>STRING</td><td>REPEATED</td><td></td></tr><tr><td>SVLEN</td><td>INTEGER</td><td>NULLABLE</td><td>INFO=&lt;ID=SVLEN,Number=1,Type=Integer,Description=\"Difference in length between REF and ALT alleles\"&gt;</td></tr><tr><td>SVTYPE</td><td>STRING</td><td>NULLABLE</td><td>INFO=&lt;ID=SVTYPE,Number=1,Type=String,Description=\"Type of structural variant\"&gt;</td></tr><tr><td>THETA</td><td>FLOAT</td><td>NULLABLE</td><td>INFO=&lt;ID=THETA,Number=1,Type=Float,Description=\"Per-marker Transition rate from MaCH/Thunder\"&gt;</td></tr><tr><td>VT</td><td>STRING</td><td>NULLABLE</td><td>INFO=&lt;ID=VT,Number=1,Type=String,Description=\"indicates what type of variant the line represents\"&gt;</td></tr></table>"
       ],
       "metadata": {},
       "output_type": "pyout",
       "prompt_number": 2,
       "text": [
        "[<gcp.bigquery._table._Field at 0x10b396a50>,\n",
        " <gcp.bigquery._table._Field at 0x10b396a10>,\n",
        " <gcp.bigquery._table._Field at 0x10b3969d0>,\n",
        " <gcp.bigquery._table._Field at 0x10b396990>,\n",
        " <gcp.bigquery._table._Field at 0x10b396950>,\n",
        " <gcp.bigquery._table._Field at 0x10b396910>,\n",
        " <gcp.bigquery._table._Field at 0x10b3968d0>,\n",
        " <gcp.bigquery._table._Field at 0x10b396890>,\n",
        " <gcp.bigquery._table._Field at 0x10b396710>,\n",
        " <gcp.bigquery._table._Field at 0x10b396b10>,\n",
        " <gcp.bigquery._table._Field at 0x10b396b50>,\n",
        " <gcp.bigquery._table._Field at 0x10b396b90>,\n",
        " <gcp.bigquery._table._Field at 0x10b396bd0>,\n",
        " <gcp.bigquery._table._Field at 0x10b396c10>,\n",
        " <gcp.bigquery._table._Field at 0x10b396c50>,\n",
        " <gcp.bigquery._table._Field at 0x10b396c90>,\n",
        " <gcp.bigquery._table._Field at 0x10b396cd0>,\n",
        " <gcp.bigquery._table._Field at 0x10b396d10>,\n",
        " <gcp.bigquery._table._Field at 0x10b396d50>,\n",
        " <gcp.bigquery._table._Field at 0x10b396d90>,\n",
        " <gcp.bigquery._table._Field at 0x10b396ad0>,\n",
        " <gcp.bigquery._table._Field at 0x10b396dd0>,\n",
        " <gcp.bigquery._table._Field at 0x10b396e10>,\n",
        " <gcp.bigquery._table._Field at 0x10b396e50>,\n",
        " <gcp.bigquery._table._Field at 0x10b396e90>,\n",
        " <gcp.bigquery._table._Field at 0x10b396ed0>,\n",
        " <gcp.bigquery._table._Field at 0x10b396f10>,\n",
        " <gcp.bigquery._table._Field at 0x10b396f50>,\n",
        " <gcp.bigquery._table._Field at 0x10b396f90>,\n",
        " <gcp.bigquery._table._Field at 0x10b396fd0>,\n",
        " <gcp.bigquery._table._Field at 0x10b3a3050>,\n",
        " <gcp.bigquery._table._Field at 0x10b3a3090>,\n",
        " <gcp.bigquery._table._Field at 0x10b3a30d0>,\n",
        " <gcp.bigquery._table._Field at 0x10b3a3110>,\n",
        " <gcp.bigquery._table._Field at 0x10b3a3150>,\n",
        " <gcp.bigquery._table._Field at 0x10b3a3190>,\n",
        " <gcp.bigquery._table._Field at 0x10b3a31d0>,\n",
        " <gcp.bigquery._table._Field at 0x10b3a3210>,\n",
        " <gcp.bigquery._table._Field at 0x10b3a3250>,\n",
        " <gcp.bigquery._table._Field at 0x10b3a3290>,\n",
        " <gcp.bigquery._table._Field at 0x10b3a32d0>,\n",
        " <gcp.bigquery._table._Field at 0x10b3a3310>,\n",
        " <gcp.bigquery._table._Field at 0x10b3a3350>,\n",
        " <gcp.bigquery._table._Field at 0x10b3a3390>,\n",
        " <gcp.bigquery._table._Field at 0x10b3a33d0>,\n",
        " <gcp.bigquery._table._Field at 0x10b3a3410>,\n",
        " <gcp.bigquery._table._Field at 0x10b3a3450>,\n",
        " <gcp.bigquery._table._Field at 0x10b3a3490>,\n",
        " <gcp.bigquery._table._Field at 0x10b3a34d0>,\n",
        " <gcp.bigquery._table._Field at 0x10b3a3510>,\n",
        " <gcp.bigquery._table._Field at 0x10b3a3550>]"
       ]
      }
     ],
     "prompt_number": 2
    },
    {
     "cell_type": "heading",
     "level": 2,
     "metadata": {},
     "source": [
      "Writing a query"
     ]
    },
    {
     "cell_type": "code",
     "collapsed": false,
     "input": [
      "%%bq_sql titv\n",
      "# Compute the Ti/Tv ratio of the 1,000 Genomes dataset.\n",
      "SELECT\n",
      "  transitions,\n",
      "  transversions,\n",
      "  transitions/transversions AS titv\n",
      "FROM (\n",
      "  SELECT\n",
      "    SUM(IF(mutation IN ('A->G',\n",
      "          'G->A',\n",
      "          'C->T',\n",
      "          'T->C'),\n",
      "        INTEGER(num_snps),\n",
      "        INTEGER(0))) AS transitions,\n",
      "    SUM(IF(mutation IN ('A->C',\n",
      "          'C->A',\n",
      "          'G->T',\n",
      "          'T->G',\n",
      "          'A->T',\n",
      "          'T->A',\n",
      "          'C->G',\n",
      "          'G->C'),\n",
      "        INTEGER(num_snps),\n",
      "        INTEGER(0))) AS transversions,\n",
      "  FROM (\n",
      "    SELECT\n",
      "      CONCAT(reference_bases,\n",
      "        CONCAT(STRING('->'),\n",
      "          alternate_bases)) AS mutation,\n",
      "      COUNT(alternate_bases) AS num_snps,\n",
      "    FROM\n",
      "      $table\n",
      "    WHERE\n",
      "      vt = 'SNP'\n",
      "    GROUP BY\n",
      "      mutation\n",
      "    ORDER BY\n",
      "      mutation))"
     ],
     "language": "python",
     "metadata": {},
     "outputs": [],
     "prompt_number": 3
    },
    {
     "cell_type": "heading",
     "level": 2,
     "metadata": {},
     "source": [
      "Executing your query"
     ]
    },
    {
     "cell_type": "markdown",
     "metadata": {},
     "source": [
      "The following will issue our `titv` query to BigQuery and then retrieve the results into a Pandas dataframe."
     ]
    },
    {
     "cell_type": "code",
     "collapsed": false,
     "input": [
      "df = titv.results().to_dataframe()\n",
      "df"
     ],
     "language": "python",
     "metadata": {},
     "outputs": [
      {
       "html": [
        "<div style=\"max-height:1000px;max-width:1500px;overflow:auto;\">\n",
        "<table border=\"1\" class=\"dataframe\">\n",
        "  <thead>\n",
        "    <tr style=\"text-align: right;\">\n",
        "      <th></th>\n",
        "      <th>titv</th>\n",
        "      <th>transitions</th>\n",
        "      <th>transversions</th>\n",
        "    </tr>\n",
        "  </thead>\n",
        "  <tbody>\n",
        "    <tr>\n",
        "      <th>0</th>\n",
        "      <td> 2.156162</td>\n",
        "      <td> 26130017</td>\n",
        "      <td> 12118762</td>\n",
        "    </tr>\n",
        "  </tbody>\n",
        "</table>\n",
        "</div>"
       ],
       "metadata": {},
       "output_type": "pyout",
       "prompt_number": 4,
       "text": [
        "       titv  transitions  transversions\n",
        "0  2.156162     26130017       12118762"
       ]
      }
     ],
     "prompt_number": 4
    },
    {
     "cell_type": "code",
     "collapsed": false,
     "input": [],
     "language": "python",
     "metadata": {},
     "outputs": [],
     "prompt_number": 4
    }
   ],
   "metadata": {}
  }
 ]
}